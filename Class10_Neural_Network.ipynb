{
 "cells": [
  {
   "cell_type": "markdown",
   "metadata": {
    "toc": true
   },
   "source": [
    "<h1>Table of Contents<span class=\"tocSkip\"></span></h1>\n",
    "<div class=\"toc\"><ul class=\"toc-item\"><li><span><a href=\"#Machine-Learning-–-Energy-Systems-Course-at-University-of-Calgary\" data-toc-modified-id=\"Machine-Learning-–-Energy-Systems-Course-at-University-of-Calgary-1\"><span class=\"toc-item-num\">1&nbsp;&nbsp;</span>Machine Learning – Energy Systems Course at University of Calgary</a></span></li><li><span><a href=\"#Artificial-Neural-Network-(ANN)\" data-toc-modified-id=\"Artificial-Neural-Network-(ANN)-2\"><span class=\"toc-item-num\">2&nbsp;&nbsp;</span>Artificial Neural Network (ANN)</a></span></li><li><span><a href=\"#How-ANN-Works\" data-toc-modified-id=\"How-ANN-Works-3\"><span class=\"toc-item-num\">3&nbsp;&nbsp;</span>How ANN Works</a></span><ul class=\"toc-item\"><li><span><a href=\"#The-Forward-Pass\" data-toc-modified-id=\"The-Forward-Pass-3.1\"><span class=\"toc-item-num\">3.1&nbsp;&nbsp;</span>The Forward Pass</a></span></li><li><span><a href=\"#The-Backwards-Pass\" data-toc-modified-id=\"The-Backwards-Pass-3.2\"><span class=\"toc-item-num\">3.2&nbsp;&nbsp;</span>The Backwards Pass</a></span></li></ul></li><li><span><a href=\"#Small-Examples\" data-toc-modified-id=\"Small-Examples-4\"><span class=\"toc-item-num\">4&nbsp;&nbsp;</span>Small Examples</a></span><ul class=\"toc-item\"><li><span><a href=\"#Classification-(binary)\" data-toc-modified-id=\"Classification-(binary)-4.1\"><span class=\"toc-item-num\">4.1&nbsp;&nbsp;</span>Classification (binary)</a></span></li><li><span><a href=\"#Regression\" data-toc-modified-id=\"Regression-4.2\"><span class=\"toc-item-num\">4.2&nbsp;&nbsp;</span>Regression</a></span></li></ul></li><li><span><a href=\"#Energy-Efficiency-Data-Set\" data-toc-modified-id=\"Energy-Efficiency-Data-Set-5\"><span class=\"toc-item-num\">5&nbsp;&nbsp;</span>Energy Efficiency Data Set</a></span><ul class=\"toc-item\"><li><span><a href=\"#Binary-Classification\" data-toc-modified-id=\"Binary-Classification-5.1\"><span class=\"toc-item-num\">5.1&nbsp;&nbsp;</span>Binary Classification</a></span></li><li><span><a href=\"#Multiclass-Classification\" data-toc-modified-id=\"Multiclass-Classification-5.2\"><span class=\"toc-item-num\">5.2&nbsp;&nbsp;</span>Multiclass Classification</a></span></li><li><span><a href=\"#Regression\" data-toc-modified-id=\"Regression-5.3\"><span class=\"toc-item-num\">5.3&nbsp;&nbsp;</span>Regression</a></span></li></ul></li><li><span><a href=\"#Fine-tune-Neural-Network-Hyperparameters\" data-toc-modified-id=\"Fine-tune-Neural-Network-Hyperparameters-6\"><span class=\"toc-item-num\">6&nbsp;&nbsp;</span>Fine-tune Neural Network Hyperparameters</a></span><ul class=\"toc-item\"><li><span><a href=\"#Classification:-GridSearchCV\" data-toc-modified-id=\"Classification:-GridSearchCV-6.1\"><span class=\"toc-item-num\">6.1&nbsp;&nbsp;</span>Classification: GridSearchCV</a></span></li><li><span><a href=\"#Regression:-GridSearchCV\" data-toc-modified-id=\"Regression:-GridSearchCV-6.2\"><span class=\"toc-item-num\">6.2&nbsp;&nbsp;</span>Regression: GridSearchCV</a></span></li></ul></li></ul></div>"
   ]
  },
  {
   "cell_type": "markdown",
   "metadata": {},
   "source": [
    "# Machine Learning – Energy Systems Course at University of Calgary\n",
    "\n",
    "* Instructor: [Mehdi Rezvandehy](https://www.linkedin.com/in/mehdi-rezvandehy-ph-d-70a40b52/)"
   ]
  },
  {
   "cell_type": "markdown",
   "metadata": {},
   "source": [
    "# Artificial Neural Network (ANN)"
   ]
  },
  {
   "cell_type": "markdown",
   "metadata": {},
   "source": [
    "We are inspired by birds to fly but not exactly doing the same as birds do; planes do not flap their wings. This is the key for Artificial Neural Network (ANN). ANN looks at the human brain’s architecture to build an intelligent machine. However, ANN has gradually become quite different from the biological term. ANN is the very core of Deep Learning. Deep Learning usually involves much more successive layers of representations. It is a major field of Machine Learning for tackling very complex problems that Machine Learning is unable to resolve such as classifying billions of images, speech recognition, computer vision. Deep Learning requires big data in order to receive higher performance than Machine Learning and ANN."
   ]
  },
  {
   "cell_type": "markdown",
   "metadata": {},
   "source": [
    "# How ANN Works"
   ]
  },
  {
   "cell_type": "markdown",
   "metadata": {},
   "source": [
    "The Figure below shows a simple ANN architecture. It consists of input layers, hidden layer and output layer. Input layer is number of futures in training set. Hidden layer is made up of neurons; here we have two neurons, and final layer is output layer, which is number of target for each training instance. When all the neurons in a layer are connected to every neuron in the previous layer, it is called a **fully connected layer** or **a dense layer**. A bias neuron is also considered for hidden layer and output layer.\n",
    "\n",
    "<p>&nbsp;</p>\n",
    "<img src=\"https://raw.githubusercontent.com/MehdiRezvandehy/Machine-Learning-Course-University-of-Calgary/master/Images/FigDL-1.png \" alt=\"drawing\" width=\"550\"/>"
   ]
  },
  {
   "cell_type": "markdown",
   "metadata": {},
   "source": [
    "The outputs of a layer of artificial neurons for several instances at once is calculated by:\n",
    "\n",
    "$O_{\\mathbf{w,b}}(\\mathbf{x})=\\varphi(\\mathbf{x}\\mathbf{w}+\\mathbf{b})$\n",
    "\n",
    "\n",
    "  * **X** is the matrix of input features. \n",
    "  * **W** is the connection weights for the neurons except the bias neuron. \n",
    "  * **b** is the all weights for biased neurons.\n",
    "  * $\\varphi$ is a function called activation function. \n",
    "  \n",
    "For the ANN architecture above: $\\mathbf{x}=x_{1},x_{2}$, $\\mathbf{w}=w_{1},w_{2},w_{3},w_{4},w_{5},w_{6},w_{7},w_{8}$ and  $\\mathbf{b}=b1_{N1},b1_{N2},b2_{O1},b2_{O2}$.\n",
    "\n",
    "The weights $\\mathbf{w}$ and $\\mathbf{b}$ should be optimized by minimizing the calculated error between the calculated output from ANN ($O_{\\mathbf{w,b}}(\\mathbf{x}$) and actual values. This can be done by **backpropagation** algorithm;\n",
    "it is simply Gradient Descent discussed before. Backpropagation algorithm applies two passes through the network (one forward, one backward) to calculate the gradient of the network’s error with regards to every single weight. It measures how much each weight and bias term should be tweaked in order to mitigate the error from the actual values. After computing the gradients, simple Gradient Descent is applied by iterating over the entire network until the network converges to the solution. \n",
    "\n",
    "\n",
    "Lets discuss this approach in more details as below:\n",
    "\n",
    "\n",
    "1- One mini-batch (mini-batch discussed in previous lecture ) is applied at the time. For example, random selection of 32 training instances can be applied each time. As we discussed before, each iteration is called **epoch**.\n",
    "\n",
    "\n",
    "2- Each mini-batch is passed to the first hidden layer. The output of all the neurons in the first layer is calculated and then pass on to the next layer; the output of all the neurons in the new layer are computed and passed again to the next layer. This process is repeated until reaching to the output layer. This is the **forward pass**. All the weights for the unknown weights and bias terms are randomly generated in this step.\n",
    " \n",
    "\n",
    "3- Next step is to calculate the ANN output error by using a cost function such as mean square error. \n",
    "\n",
    "4- Then, the contribution of each parameter (weight) to the error is calculated. This step can be fast and precise by applying *chain rule*. It starts from the last hidden layer; the *chain rule* is repeated again until reaching to the input layer. By going through this reverse pass, the error gradient across all the connection weights in the network is efficiently measured: the error gradient is propagated backward through the network. That is why it is called backpropagation.\n",
    "\n",
    "5- Finally, the algorithm goes through multiple Gradient Descent step to optimize all weights and biases in ANN using the error gradients.\n"
   ]
  },
  {
   "cell_type": "markdown",
   "metadata": {},
   "source": [
    "In order to have higher performance for very complex problem and achieve non-linear relations; an activation function $\\varphi$ should be used. Since $\\mathbf{x}\\mathbf{w}+\\mathbf{b}$ is a linear transformation, we need some non-linearity between layers to solve complex problems, otherwise even using very deep network will be inefficient.\n",
    "\n",
    "The common activation functions are:\n",
    "\n",
    "1- *Rectified Linear Unit function: ReLU(z) = max(0, z)*. Although its derivative is 0 for z<0, *ReLU* is the fastest and most popular one activation function. \n",
    "\n",
    "2- *Logistic Regression*: $\\frac{1}{1+e^{-z}}$\n",
    "\n",
    "\n",
    "3-*Tangent function*: tanh(z)\n",
    "\n",
    "See the following plots for these activation function with the derivate of each function:"
   ]
  },
  {
   "cell_type": "code",
   "execution_count": 1,
   "metadata": {},
   "outputs": [
    {
     "data": {
      "image/png": "[encoded data removed]",
      "text/plain": [
       "<Figure size 1170x405 with 2 Axes>"
      ]
     },
     "metadata": {},
     "output_type": "display_data"
    }
   ],
   "source": [
    "from matplotlib.colors import ListedColormap\n",
    "import matplotlib as mpl\n",
    "import matplotlib.pyplot as plt\n",
    "import pandas as pd\n",
    "import numpy as np\n",
    "from numpy import random\n",
    "\n",
    "font = {'size'   : 12}\n",
    "plt.rc('font', **font)\n",
    "fig = plt.subplots(figsize=(13.0, 4.5), dpi= 90, facecolor='w', edgecolor='k')\n",
    "\n",
    "z1 = np.linspace(-4, 4, 100)\n",
    "#\n",
    "def sgd(y):\n",
    "    return 1 / (1 + np.exp(-y))\n",
    "\n",
    "def relu(y):\n",
    "    return np.maximum(0, y)\n",
    "\n",
    "def drivtve(f, y):\n",
    "    return (f(z1 + 0.000001) - f(z1 - 0.000001))/(2 * 0.000001)\n",
    "#\n",
    "plt.subplot(1,2,1)\n",
    "\n",
    "plt.plot(z1, sgd(z1), \"b--\", linewidth=2, label=\"Sigmoid\")\n",
    "plt.plot(z1, np.tanh(z1), \"r-\", linewidth=2, label=\"Tanh\")\n",
    "plt.plot(z1, relu(z1), \"g-.\", linewidth=4, label=\"ReLU\")\n",
    "plt.grid(True)\n",
    "plt.legend(loc=4, fontsize=14)\n",
    "plt.title(\"Activation functions\", fontsize=14)\n",
    "plt.ylim(-1,1)\n",
    "\n",
    "plt.subplot(1,2,2)\n",
    "\n",
    "plt.plot(z1, drivtve(sgd, z1), \"b--\", linewidth=2, label=\"Sigmoid\")\n",
    "plt.plot(z1, drivtve(np.tanh, z1), \"r-\", linewidth=2, label=\"Tanh\")\n",
    "plt.plot(z1, drivtve(relu, z1), \"g-.\", linewidth=4, label=\"ReLU\")\n",
    "plt.grid(True)\n",
    "plt.title(\"Derivative of each Activation Function \", fontsize=14)\n",
    "\n",
    "plt.show()"
   ]
  },
  {
   "cell_type": "code",
   "execution_count": null,
   "metadata": {},
   "outputs": [],
   "source": []
  },
  {
   "cell_type": "markdown",
   "metadata": {},
   "source": [
    "Lets apply ANN for a simple example below. Assume for one training instance, we have the value X1=0.05, X2= 0.10 for features X1 and X2, respectively. And we have two outputs 0.01 and 0.99. The activation function is logistic regression. First, the weights $w_{1},w_{2},w_{3},w_{4},w_{5},w_{6},w_{7},w_{8}$ and $b1_{N1},b1_{N2},b2_{O1},b2_{O2}$ are randomly generate between 0 to 1 as below:  "
   ]
  },
  {
   "cell_type": "markdown",
   "metadata": {},
   "source": [
    "<p>&nbsp;</p>\n",
    "<img src=\"https://raw.githubusercontent.com/MehdiRezvandehy/Machine-Learning-Course-University-of-Calgary/master/Images/FigDL-2.png \" alt=\"drawing\" width=\"850\"/>"
   ]
  },
  {
   "cell_type": "markdown",
   "metadata": {},
   "source": [
    "## The Forward Pass"
   ]
  },
  {
   "cell_type": "markdown",
   "metadata": {},
   "source": [
    "**Neuron 1:**\n",
    "\n",
    "$z_{N1}=x_{1}*w_{1}+x_{2}*w_{2}+b1_{N1}*1= 0.05*0.15+0.1*0.2+0.35*1 =0.3775$. \n",
    "\n",
    "$ out_{N1}=\\frac{1}{1+e^{-z_{N1}}}=0.593269992$\n",
    "\n",
    "**Neuron 2:**\n",
    "\n",
    "$z_{N2}=x_{1}*w_{3}+x_{2}*w_{4}+b1_{N2}*1= 0.05*0.25+0.1*0.3+0.35*1 =0.39249$. \n",
    "\n",
    "$ out_{N2}=\\frac{1}{1+e^{-z_{N2}}}=0.596884378$\n",
    "\n",
    "\n",
    "**Output 1:**\n",
    "\n",
    "$z_{O1}=out_{N1}*w_{5}+out_{N2}*w_{6}+b2_{O1}*1= 0.593269992*0.4+0.596884378*0.45+0.60*1 =1.1059059667$. \n",
    "\n",
    "$ out_{O1}=\\frac{1}{1+e^{-z_{O1}}}=0.75136507$\n",
    "\n",
    "**Output 2:**\n",
    "\n",
    "$z_{O2}=out_{N1}*w_{7}+out_{N2}*w_{8}+b2_{O2}*1= 0.593269992*0.5+0.596884378*0.55+0.60*1 =1.2249214039$. \n",
    "\n",
    "$ out_{O2}=\\frac{1}{1+e^{-z_{O2}}}=0.772928465$\n"
   ]
  },
  {
   "cell_type": "markdown",
   "metadata": {},
   "source": [
    "We calculated Output 1 and Output 2, so the mean square error can be calculated as $MSE=\\frac{1}{2}\\sum_{i=1}^{2} (Target_{i}-Predicted_{i})^{2}=\\frac{1}{2}((0.01-0.75136507)^{2}+(0.99-0.772928465)^{2})=0.298371109$."
   ]
  },
  {
   "cell_type": "markdown",
   "metadata": {},
   "source": [
    "## The Backwards Pass"
   ]
  },
  {
   "cell_type": "markdown",
   "metadata": {},
   "source": [
    "The main aim of backpropagation is to update each the weight in the ANN to make the calculated outputs ($ out_{O1}$,$ out_{O2}$) close to the target values (0.01 and 0.99) by minimizing the error ($MSE$).\n",
    "\n",
    "Lets do it for $w_{5}$. We want to know how much a very little change in $w_{5}$ impacts $MSE$. So, we should calculate the partial derivative of MSE with respect to $w_{5}$. It is also called the gradient with respect to $w_{5}$: $\\frac{\\partial MSE}{\\partial w_{5}}$. This partial derivative can be calculated by using [chain rule](https://en.wikipedia.org/wiki/Chain_rule):\n",
    "\n",
    "\n",
    "$\\Large \\frac{\\partial MSE}{\\partial w_{5}}= \\frac{\\partial MSE}{\\partial out_{O1}}\\times \\frac{\\partial out_{O1}}{\\partial z_{O1}}\\times \\frac{\\partial z_{O1}}{\\partial w_{5}}$\n",
    "\n",
    "Each partial derivative can be calculated as:"
   ]
  },
  {
   "cell_type": "markdown",
   "metadata": {},
   "source": [
    "$\\frac{\\partial MSE}{\\partial out_{O1}}  \\rightarrow MSE=\\frac{1}{2} \\sum_{i=1}^{2} (Target_{out_{Oi}}-out_{Oi})^{2} \n",
    "\\,\\,\\,\\,\\,\\,\\frac{\\partial MSE}{\\partial out_{O1}}=2\\times \\frac{1}{2}(Target_{out_{O1}\n",
    "}-out_{O1})^{2-1}\\times -1+0 \\\\=-(0.01-0.75136507)=0.74136507$"
   ]
  },
  {
   "cell_type": "markdown",
   "metadata": {},
   "source": [
    "$\\frac{\\partial out_{O1}}{\\partial z_{O1}} \\rightarrow  out_{O1}=\\frac{1}{1+e^{-z_{O1}}} \\rightarrow  \\frac{\\partial out_{O1}}{\\partial z_{O1}}= \\frac{e^{-z_{O1}}}{(1+e^{-z_{O1}})^{2}} =0.1868156018$\n",
    "\n",
    "\n",
    "\n",
    "\n",
    "\n"
   ]
  },
  {
   "cell_type": "markdown",
   "metadata": {},
   "source": [
    "$\\frac{\\partial z_{O1}}{\\partial w_{5}} \\rightarrow z_{O1}=out_{N1}*w_{5}+out_{N2}*w_{6}+b_{1}  \\rightarrow   \\frac{\\partial z_{O1}}{\\partial w_{5}}=0.593269992$\n"
   ]
  },
  {
   "cell_type": "markdown",
   "metadata": {},
   "source": [
    "We have calculated all partial derivatives. Now we can calculate the gradient of MSE with respect to $w_{5}$: $\\frac{\\partial MSE}{\\partial w_{5}}$:\n",
    "\n",
    "$\\Large \\frac{\\partial MSE}{\\partial w_{5}}= \\frac{\\partial MSE}{\\partial out_{O1}}\\times \\frac{\\partial out_{O1}}{\\partial z_{O1}}\\times \\frac{\\partial z_{O1}}{\\partial w_{5}}$$=0.74136507\\times 0.1868156018 \\times 0.593269992=0.0821670401$\n",
    "\n",
    "$\\Large \\frac{\\partial MSE}{\\partial w_{5}}$$=0.0821670401$"
   ]
  },
  {
   "cell_type": "markdown",
   "metadata": {},
   "source": [
    "This partial derivatives of $MSE$ with respect to other weights $w_{1},w_{2},w_{3},w_{4},w_{6},w_{7},w_{8}$ and bias $b1_{N1},b1_{N2},b1_{O1},b1_{O2}$ can be calculated by using chain rule as we did."
   ]
  },
  {
   "cell_type": "markdown",
   "metadata": {},
   "source": [
    "The next step is to decrease the MSE by tuning $w_{5}$ using Gradient Descent:\n",
    "\n",
    "$\\large w_{5}^{u}=w_{5}-\\alpha \\frac{\\partial MSE}{\\partial w_{5}}$\n",
    "\n",
    "If learning rate $\\alpha$=0.5, then the updated weight $ w_{5}^{u}$ to decrease MSE is calculated as:"
   ]
  },
  {
   "cell_type": "markdown",
   "metadata": {},
   "source": [
    "$\\large w_{5}^{u}$$=0.4-0.5* 0.0821670401=0.35891648$"
   ]
  },
  {
   "cell_type": "markdown",
   "metadata": {},
   "source": [
    "This process should be repeated for many iteration to optimize $w_{5}$. See lecture before for more information about Gradient Descent. The entire process should be applied to uptimize other weights $w_{1},w_{2},w_{3},w_{4},w_{6},w_{7},w_{8}, b1_{N1},b1_{N2},b1_{O1},b1_{O2}$. "
   ]
  },
  {
   "cell_type": "markdown",
   "metadata": {},
   "source": [
    "# Small Examples"
   ]
  },
  {
   "cell_type": "markdown",
   "metadata": {},
   "source": [
    "We start to build a ANN using tensorflow library."
   ]
  },
  {
   "cell_type": "code",
   "execution_count": 2,
   "metadata": {},
   "outputs": [],
   "source": [
    "import tensorflow as tf\n",
    "from tensorflow import keras"
   ]
  },
  {
   "cell_type": "markdown",
   "metadata": {},
   "source": [
    "We want to build a neural network structure for a binary classification and regression. The network structure has 1 hidden layers with 6 neurons (see Figure below).\n",
    "\n",
    "<p>&nbsp;</p>\n",
    "<img src=\"https://raw.githubusercontent.com/MehdiRezvandehy/Machine-Learning-Course-University-of-Calgary/master/Images/FigDL-33.png \" alt=\"drawing\" width=\"650\"/>"
   ]
  },
  {
   "cell_type": "markdown",
   "metadata": {},
   "source": [
    "## Classification (binary)"
   ]
  },
  {
   "cell_type": "markdown",
   "metadata": {},
   "source": [
    "Here is a synthetic data set with two features and only 4 training instances."
   ]
  },
  {
   "cell_type": "code",
   "execution_count": 3,
   "metadata": {},
   "outputs": [],
   "source": [
    "X=[[1.5,2.2],\n",
    "   [-1.1,1.6],\n",
    "   [-2.7,-0.5],\n",
    "   [3.1,2.5]]\n",
    "y=[1,\n",
    "   0,\n",
    "   0,\n",
    "   1]"
   ]
  },
  {
   "cell_type": "code",
   "execution_count": null,
   "metadata": {},
   "outputs": [],
   "source": []
  },
  {
   "cell_type": "code",
   "execution_count": 4,
   "metadata": {},
   "outputs": [
    {
     "name": "stdout",
     "output_type": "stream",
     "text": [
      "Epoch 1/200\n",
      "1/1 [==============================] - 0s 1ms/step - loss: 0.8143 - accuracy: 0.5000\n",
      "Epoch 2/200\n",
      "1/1 [==============================] - 0s 998us/step - loss: 0.8119 - accuracy: 0.5000\n",
      "Epoch 3/200\n",
      "1/1 [==============================] - 0s 999us/step - loss: 0.8094 - accuracy: 0.5000\n",
      "Epoch 4/200\n",
      "1/1 [==============================] - 0s 998us/step - loss: 0.8070 - accuracy: 0.5000\n",
      "Epoch 5/200\n",
      "1/1 [==============================] - 0s 997us/step - loss: 0.8046 - accuracy: 0.5000\n",
      "Epoch 6/200\n",
      "1/1 [==============================] - 0s 996us/step - loss: 0.8022 - accuracy: 0.5000\n",
      "Epoch 7/200\n",
      "1/1 [==============================] - 0s 996us/step - loss: 0.7999 - accuracy: 0.5000\n",
      "Epoch 8/200\n",
      "1/1 [==============================] - 0s 997us/step - loss: 0.7975 - accuracy: 0.5000\n",
      "Epoch 9/200\n",
      "1/1 [==============================] - 0s 997us/step - loss: 0.7952 - accuracy: 0.5000\n",
      "Epoch 10/200\n",
      "1/1 [==============================] - 0s 996us/step - loss: 0.7929 - accuracy: 0.5000\n",
      "Epoch 11/200\n",
      "1/1 [==============================] - 0s 2ms/step - loss: 0.7906 - accuracy: 0.5000\n",
      "Epoch 12/200\n",
      "1/1 [==============================] - 0s 997us/step - loss: 0.7883 - accuracy: 0.5000\n",
      "Epoch 13/200\n",
      "1/1 [==============================] - 0s 998us/step - loss: 0.7860 - accuracy: 0.5000\n",
      "Epoch 14/200\n",
      "1/1 [==============================] - 0s 996us/step - loss: 0.7838 - accuracy: 0.5000\n",
      "Epoch 15/200\n",
      "1/1 [==============================] - 0s 2ms/step - loss: 0.7816 - accuracy: 0.5000\n",
      "Epoch 16/200\n",
      "1/1 [==============================] - 0s 2ms/step - loss: 0.7793 - accuracy: 0.5000\n",
      "Epoch 17/200\n",
      "1/1 [==============================] - 0s 996us/step - loss: 0.7772 - accuracy: 0.5000\n",
      "Epoch 18/200\n",
      "1/1 [==============================] - 0s 998us/step - loss: 0.7750 - accuracy: 0.5000\n",
      "Epoch 19/200\n",
      "1/1 [==============================] - 0s 995us/step - loss: 0.7728 - accuracy: 0.5000\n",
      "Epoch 20/200\n",
      "1/1 [==============================] - 0s 998us/step - loss: 0.7707 - accuracy: 0.5000\n",
      "Epoch 21/200\n",
      "1/1 [==============================] - 0s 995us/step - loss: 0.7685 - accuracy: 0.5000\n",
      "Epoch 22/200\n",
      "1/1 [==============================] - 0s 2ms/step - loss: 0.7664 - accuracy: 0.5000\n",
      "Epoch 23/200\n",
      "1/1 [==============================] - 0s 2ms/step - loss: 0.7643 - accuracy: 0.5000\n",
      "Epoch 24/200\n",
      "1/1 [==============================] - 0s 2ms/step - loss: 0.7622 - accuracy: 0.5000\n",
      "Epoch 25/200\n",
      "1/1 [==============================] - 0s 995us/step - loss: 0.7602 - accuracy: 0.5000\n",
      "Epoch 26/200\n",
      "1/1 [==============================] - 0s 998us/step - loss: 0.7581 - accuracy: 0.5000\n",
      "Epoch 27/200\n",
      "1/1 [==============================] - 0s 2ms/step - loss: 0.7561 - accuracy: 0.5000\n",
      "Epoch 28/200\n",
      "1/1 [==============================] - 0s 997us/step - loss: 0.7540 - accuracy: 0.5000\n",
      "Epoch 29/200\n",
      "1/1 [==============================] - 0s 997us/step - loss: 0.7520 - accuracy: 0.5000\n",
      "Epoch 30/200\n",
      "1/1 [==============================] - 0s 998us/step - loss: 0.7500 - accuracy: 0.5000\n",
      "Epoch 31/200\n",
      "1/1 [==============================] - 0s 997us/step - loss: 0.7481 - accuracy: 0.5000\n",
      "Epoch 32/200\n",
      "1/1 [==============================] - 0s 998us/step - loss: 0.7461 - accuracy: 0.5000\n",
      "Epoch 33/200\n",
      "1/1 [==============================] - 0s 2ms/step - loss: 0.7441 - accuracy: 0.5000\n",
      "Epoch 34/200\n",
      "1/1 [==============================] - 0s 988us/step - loss: 0.7422 - accuracy: 0.5000\n",
      "Epoch 35/200\n",
      "1/1 [==============================] - 0s 998us/step - loss: 0.7403 - accuracy: 0.5000\n",
      "Epoch 36/200\n",
      "1/1 [==============================] - 0s 998us/step - loss: 0.7384 - accuracy: 0.5000\n",
      "Epoch 37/200\n",
      "1/1 [==============================] - 0s 994us/step - loss: 0.7365 - accuracy: 0.5000\n",
      "Epoch 38/200\n",
      "1/1 [==============================] - 0s 997us/step - loss: 0.7346 - accuracy: 0.5000\n",
      "Epoch 39/200\n",
      "1/1 [==============================] - 0s 0s/step - loss: 0.7327 - accuracy: 0.5000\n",
      "Epoch 40/200\n",
      "1/1 [==============================] - 0s 3ms/step - loss: 0.7309 - accuracy: 0.5000\n",
      "Epoch 41/200\n",
      "1/1 [==============================] - 0s 996us/step - loss: 0.7290 - accuracy: 0.5000\n",
      "Epoch 42/200\n",
      "1/1 [==============================] - 0s 2ms/step - loss: 0.7272 - accuracy: 0.5000\n",
      "Epoch 43/200\n",
      "1/1 [==============================] - 0s 999us/step - loss: 0.7254 - accuracy: 0.5000\n",
      "Epoch 44/200\n",
      "1/1 [==============================] - 0s 996us/step - loss: 0.7235 - accuracy: 0.5000\n",
      "Epoch 45/200\n",
      "1/1 [==============================] - 0s 1ms/step - loss: 0.7218 - accuracy: 0.5000\n",
      "Epoch 46/200\n",
      "1/1 [==============================] - 0s 997us/step - loss: 0.7200 - accuracy: 0.5000\n",
      "Epoch 47/200\n",
      "1/1 [==============================] - 0s 983us/step - loss: 0.7182 - accuracy: 0.5000\n",
      "Epoch 48/200\n",
      "1/1 [==============================] - 0s 998us/step - loss: 0.7164 - accuracy: 0.5000\n",
      "Epoch 49/200\n",
      "1/1 [==============================] - 0s 998us/step - loss: 0.7147 - accuracy: 0.5000\n",
      "Epoch 50/200\n",
      "1/1 [==============================] - 0s 996us/step - loss: 0.7130 - accuracy: 0.5000\n",
      "Epoch 51/200\n",
      "1/1 [==============================] - 0s 997us/step - loss: 0.7112 - accuracy: 0.5000\n",
      "Epoch 52/200\n",
      "1/1 [==============================] - 0s 1000us/step - loss: 0.7095 - accuracy: 0.5000\n",
      "Epoch 53/200\n",
      "1/1 [==============================] - 0s 998us/step - loss: 0.7078 - accuracy: 0.5000\n",
      "Epoch 54/200\n",
      "1/1 [==============================] - 0s 997us/step - loss: 0.7061 - accuracy: 0.5000\n",
      "Epoch 55/200\n",
      "1/1 [==============================] - 0s 997us/step - loss: 0.7045 - accuracy: 0.5000\n",
      "Epoch 56/200\n",
      "1/1 [==============================] - 0s 999us/step - loss: 0.7028 - accuracy: 0.5000\n",
      "Epoch 57/200\n",
      "1/1 [==============================] - 0s 993us/step - loss: 0.7011 - accuracy: 0.5000\n",
      "Epoch 58/200\n",
      "1/1 [==============================] - 0s 2ms/step - loss: 0.6995 - accuracy: 0.5000\n",
      "Epoch 59/200\n",
      "1/1 [==============================] - 0s 997us/step - loss: 0.6979 - accuracy: 0.5000\n",
      "Epoch 60/200\n",
      "1/1 [==============================] - 0s 998us/step - loss: 0.6962 - accuracy: 0.5000\n",
      "Epoch 61/200\n",
      "1/1 [==============================] - 0s 993us/step - loss: 0.6946 - accuracy: 0.5000\n",
      "Epoch 62/200\n",
      "1/1 [==============================] - 0s 995us/step - loss: 0.6930 - accuracy: 0.5000\n",
      "Epoch 63/200\n",
      "1/1 [==============================] - 0s 0s/step - loss: 0.6914 - accuracy: 0.5000\n",
      "Epoch 64/200\n",
      "1/1 [==============================] - 0s 2ms/step - loss: 0.6899 - accuracy: 0.5000\n",
      "Epoch 65/200\n",
      "1/1 [==============================] - 0s 959us/step - loss: 0.6883 - accuracy: 0.5000\n",
      "Epoch 66/200\n",
      "1/1 [==============================] - 0s 997us/step - loss: 0.6867 - accuracy: 0.5000\n",
      "Epoch 67/200\n",
      "1/1 [==============================] - 0s 999us/step - loss: 0.6852 - accuracy: 0.5000\n",
      "Epoch 68/200\n",
      "1/1 [==============================] - 0s 998us/step - loss: 0.6836 - accuracy: 0.5000\n",
      "Epoch 69/200\n",
      "1/1 [==============================] - 0s 964us/step - loss: 0.6821 - accuracy: 0.5000\n",
      "Epoch 70/200\n",
      "1/1 [==============================] - 0s 996us/step - loss: 0.6806 - accuracy: 0.5000\n",
      "Epoch 71/200\n",
      "1/1 [==============================] - 0s 2ms/step - loss: 0.6791 - accuracy: 0.5000\n",
      "Epoch 72/200\n",
      "1/1 [==============================] - 0s 998us/step - loss: 0.6776 - accuracy: 0.5000\n",
      "Epoch 73/200\n",
      "1/1 [==============================] - 0s 997us/step - loss: 0.6761 - accuracy: 0.5000\n",
      "Epoch 74/200\n",
      "1/1 [==============================] - 0s 995us/step - loss: 0.6746 - accuracy: 0.5000\n",
      "Epoch 75/200\n",
      "1/1 [==============================] - 0s 996us/step - loss: 0.6731 - accuracy: 0.5000\n",
      "Epoch 76/200\n",
      "1/1 [==============================] - 0s 996us/step - loss: 0.6717 - accuracy: 0.5000\n",
      "Epoch 77/200\n",
      "1/1 [==============================] - 0s 996us/step - loss: 0.6702 - accuracy: 0.5000\n",
      "Epoch 78/200\n",
      "1/1 [==============================] - 0s 0s/step - loss: 0.6687 - accuracy: 0.5000\n",
      "Epoch 79/200\n",
      "1/1 [==============================] - 0s 995us/step - loss: 0.6673 - accuracy: 0.5000\n",
      "Epoch 80/200\n",
      "1/1 [==============================] - 0s 996us/step - loss: 0.6659 - accuracy: 0.5000\n",
      "Epoch 81/200\n",
      "1/1 [==============================] - 0s 998us/step - loss: 0.6645 - accuracy: 0.5000\n",
      "Epoch 82/200\n",
      "1/1 [==============================] - 0s 997us/step - loss: 0.6630 - accuracy: 0.5000\n",
      "Epoch 83/200\n",
      "1/1 [==============================] - 0s 993us/step - loss: 0.6616 - accuracy: 0.5000\n",
      "Epoch 84/200\n",
      "1/1 [==============================] - 0s 2ms/step - loss: 0.6602 - accuracy: 0.5000\n",
      "Epoch 85/200\n",
      "1/1 [==============================] - 0s 2ms/step - loss: 0.6589 - accuracy: 0.5000\n",
      "Epoch 86/200\n",
      "1/1 [==============================] - 0s 999us/step - loss: 0.6575 - accuracy: 0.5000\n",
      "Epoch 87/200\n",
      "1/1 [==============================] - 0s 998us/step - loss: 0.6561 - accuracy: 0.5000\n",
      "Epoch 88/200\n",
      "1/1 [==============================] - 0s 996us/step - loss: 0.6547 - accuracy: 0.5000\n",
      "Epoch 89/200\n",
      "1/1 [==============================] - 0s 2ms/step - loss: 0.6534 - accuracy: 0.5000\n",
      "Epoch 90/200\n",
      "1/1 [==============================] - 0s 1000us/step - loss: 0.6520 - accuracy: 0.5000\n",
      "Epoch 91/200\n",
      "1/1 [==============================] - 0s 2ms/step - loss: 0.6507 - accuracy: 0.5000\n",
      "Epoch 92/200\n",
      "1/1 [==============================] - 0s 995us/step - loss: 0.6494 - accuracy: 0.5000\n",
      "Epoch 93/200\n",
      "1/1 [==============================] - 0s 997us/step - loss: 0.6480 - accuracy: 0.5000\n",
      "Epoch 94/200\n",
      "1/1 [==============================] - 0s 996us/step - loss: 0.6467 - accuracy: 0.5000\n",
      "Epoch 95/200\n",
      "1/1 [==============================] - 0s 997us/step - loss: 0.6454 - accuracy: 0.5000\n",
      "Epoch 96/200\n",
      "1/1 [==============================] - 0s 996us/step - loss: 0.6441 - accuracy: 0.5000\n",
      "Epoch 97/200\n",
      "1/1 [==============================] - 0s 995us/step - loss: 0.6428 - accuracy: 0.5000\n",
      "Epoch 98/200\n",
      "1/1 [==============================] - 0s 995us/step - loss: 0.6415 - accuracy: 0.5000\n",
      "Epoch 99/200\n",
      "1/1 [==============================] - 0s 2ms/step - loss: 0.6402 - accuracy: 0.5000\n",
      "Epoch 100/200\n",
      "1/1 [==============================] - 0s 2ms/step - loss: 0.6389 - accuracy: 0.5000\n",
      "Epoch 101/200\n",
      "1/1 [==============================] - 0s 2ms/step - loss: 0.6377 - accuracy: 0.5000\n",
      "Epoch 102/200\n",
      "1/1 [==============================] - 0s 995us/step - loss: 0.6364 - accuracy: 0.5000\n",
      "Epoch 103/200\n",
      "1/1 [==============================] - 0s 993us/step - loss: 0.6352 - accuracy: 0.5000\n",
      "Epoch 104/200\n",
      "1/1 [==============================] - 0s 995us/step - loss: 0.6339 - accuracy: 0.5000\n",
      "Epoch 105/200\n",
      "1/1 [==============================] - 0s 998us/step - loss: 0.6327 - accuracy: 0.5000\n",
      "Epoch 106/200\n",
      "1/1 [==============================] - 0s 0s/step - loss: 0.6314 - accuracy: 0.5000\n",
      "Epoch 107/200\n",
      "1/1 [==============================] - 0s 2ms/step - loss: 0.6302 - accuracy: 0.5000\n",
      "Epoch 108/200\n",
      "1/1 [==============================] - 0s 999us/step - loss: 0.6290 - accuracy: 0.5000\n",
      "Epoch 109/200\n",
      "1/1 [==============================] - 0s 996us/step - loss: 0.6278 - accuracy: 0.5000\n",
      "Epoch 110/200\n",
      "1/1 [==============================] - 0s 997us/step - loss: 0.6266 - accuracy: 0.5000\n",
      "Epoch 111/200\n",
      "1/1 [==============================] - 0s 994us/step - loss: 0.6254 - accuracy: 0.5000\n",
      "Epoch 112/200\n",
      "1/1 [==============================] - 0s 998us/step - loss: 0.6242 - accuracy: 0.5000\n",
      "Epoch 113/200\n",
      "1/1 [==============================] - 0s 998us/step - loss: 0.6230 - accuracy: 0.5000\n",
      "Epoch 114/200\n",
      "1/1 [==============================] - 0s 992us/step - loss: 0.6218 - accuracy: 0.5000\n",
      "Epoch 115/200\n",
      "1/1 [==============================] - 0s 1ms/step - loss: 0.6206 - accuracy: 0.5000\n",
      "Epoch 116/200\n",
      "1/1 [==============================] - 0s 0s/step - loss: 0.6194 - accuracy: 0.5000\n",
      "Epoch 117/200\n",
      "1/1 [==============================] - 0s 997us/step - loss: 0.6183 - accuracy: 0.5000\n",
      "Epoch 118/200\n",
      "1/1 [==============================] - 0s 999us/step - loss: 0.6171 - accuracy: 0.5000\n",
      "Epoch 119/200\n",
      "1/1 [==============================] - 0s 2ms/step - loss: 0.6160 - accuracy: 0.5000\n",
      "Epoch 120/200\n",
      "1/1 [==============================] - 0s 995us/step - loss: 0.6148 - accuracy: 0.5000\n",
      "Epoch 121/200\n",
      "1/1 [==============================] - 0s 998us/step - loss: 0.6137 - accuracy: 0.5000\n",
      "Epoch 122/200\n",
      "1/1 [==============================] - 0s 988us/step - loss: 0.6125 - accuracy: 0.5000\n",
      "Epoch 123/200\n",
      "1/1 [==============================] - 0s 997us/step - loss: 0.6114 - accuracy: 0.5000\n",
      "Epoch 124/200\n",
      "1/1 [==============================] - 0s 999us/step - loss: 0.6103 - accuracy: 0.5000\n",
      "Epoch 125/200\n",
      "1/1 [==============================] - 0s 997us/step - loss: 0.6091 - accuracy: 0.5000\n",
      "Epoch 126/200\n",
      "1/1 [==============================] - 0s 0s/step - loss: 0.6080 - accuracy: 0.5000\n",
      "Epoch 127/200\n",
      "1/1 [==============================] - 0s 997us/step - loss: 0.6069 - accuracy: 0.5000\n",
      "Epoch 128/200\n",
      "1/1 [==============================] - 0s 0s/step - loss: 0.6058 - accuracy: 0.5000\n",
      "Epoch 129/200\n",
      "1/1 [==============================] - 0s 997us/step - loss: 0.6047 - accuracy: 0.5000\n",
      "Epoch 130/200\n",
      "1/1 [==============================] - 0s 996us/step - loss: 0.6036 - accuracy: 0.5000\n",
      "Epoch 131/200\n",
      "1/1 [==============================] - 0s 1000us/step - loss: 0.6025 - accuracy: 0.5000\n",
      "Epoch 132/200\n",
      "1/1 [==============================] - 0s 998us/step - loss: 0.6014 - accuracy: 0.5000\n",
      "Epoch 133/200\n",
      "1/1 [==============================] - 0s 995us/step - loss: 0.6004 - accuracy: 0.5000\n",
      "Epoch 134/200\n",
      "1/1 [==============================] - 0s 0s/step - loss: 0.5993 - accuracy: 0.5000\n",
      "Epoch 135/200\n",
      "1/1 [==============================] - 0s 1ms/step - loss: 0.5982 - accuracy: 0.5000\n",
      "Epoch 136/200\n",
      "1/1 [==============================] - 0s 997us/step - loss: 0.5971 - accuracy: 0.5000\n",
      "Epoch 137/200\n",
      "1/1 [==============================] - 0s 996us/step - loss: 0.5961 - accuracy: 0.7500\n",
      "Epoch 138/200\n",
      "1/1 [==============================] - 0s 997us/step - loss: 0.5950 - accuracy: 0.7500\n",
      "Epoch 139/200\n",
      "1/1 [==============================] - 0s 2ms/step - loss: 0.5940 - accuracy: 0.7500\n",
      "Epoch 140/200\n",
      "1/1 [==============================] - 0s 998us/step - loss: 0.5929 - accuracy: 0.7500\n",
      "Epoch 141/200\n",
      "1/1 [==============================] - 0s 997us/step - loss: 0.5919 - accuracy: 0.7500\n",
      "Epoch 142/200\n",
      "1/1 [==============================] - 0s 997us/step - loss: 0.5909 - accuracy: 0.7500\n",
      "Epoch 143/200\n",
      "1/1 [==============================] - 0s 964us/step - loss: 0.5898 - accuracy: 0.7500\n",
      "Epoch 144/200\n",
      "1/1 [==============================] - 0s 2ms/step - loss: 0.5888 - accuracy: 0.7500\n",
      "Epoch 145/200\n",
      "1/1 [==============================] - 0s 997us/step - loss: 0.5878 - accuracy: 0.7500\n",
      "Epoch 146/200\n",
      "1/1 [==============================] - 0s 996us/step - loss: 0.5868 - accuracy: 0.7500\n",
      "Epoch 147/200\n",
      "1/1 [==============================] - 0s 999us/step - loss: 0.5857 - accuracy: 0.7500\n",
      "Epoch 148/200\n",
      "1/1 [==============================] - 0s 2ms/step - loss: 0.5847 - accuracy: 0.7500\n",
      "Epoch 149/200\n",
      "1/1 [==============================] - 0s 997us/step - loss: 0.5837 - accuracy: 0.7500\n",
      "Epoch 150/200\n",
      "1/1 [==============================] - 0s 998us/step - loss: 0.5827 - accuracy: 0.7500\n",
      "Epoch 151/200\n",
      "1/1 [==============================] - 0s 996us/step - loss: 0.5817 - accuracy: 0.7500\n",
      "Epoch 152/200\n",
      "1/1 [==============================] - 0s 997us/step - loss: 0.5807 - accuracy: 0.7500\n",
      "Epoch 153/200\n",
      "1/1 [==============================] - 0s 998us/step - loss: 0.5797 - accuracy: 0.7500\n",
      "Epoch 154/200\n",
      "1/1 [==============================] - 0s 2ms/step - loss: 0.5788 - accuracy: 0.7500\n",
      "Epoch 155/200\n",
      "1/1 [==============================] - 0s 999us/step - loss: 0.5778 - accuracy: 0.7500\n",
      "Epoch 156/200\n",
      "1/1 [==============================] - 0s 998us/step - loss: 0.5768 - accuracy: 0.7500\n",
      "Epoch 157/200\n",
      "1/1 [==============================] - 0s 998us/step - loss: 0.5758 - accuracy: 0.7500\n",
      "Epoch 158/200\n",
      "1/1 [==============================] - 0s 999us/step - loss: 0.5749 - accuracy: 0.7500\n",
      "Epoch 159/200\n",
      "1/1 [==============================] - 0s 0s/step - loss: 0.5739 - accuracy: 0.7500\n",
      "Epoch 160/200\n",
      "1/1 [==============================] - 0s 997us/step - loss: 0.5729 - accuracy: 0.7500\n",
      "Epoch 161/200\n",
      "1/1 [==============================] - 0s 999us/step - loss: 0.5720 - accuracy: 0.7500\n",
      "Epoch 162/200\n",
      "1/1 [==============================] - 0s 2ms/step - loss: 0.5710 - accuracy: 0.7500\n",
      "Epoch 163/200\n",
      "1/1 [==============================] - 0s 998us/step - loss: 0.5701 - accuracy: 0.7500\n",
      "Epoch 164/200\n"
     ]
    },
    {
     "name": "stdout",
     "output_type": "stream",
     "text": [
      "1/1 [==============================] - 0s 998us/step - loss: 0.5691 - accuracy: 0.7500\n",
      "Epoch 165/200\n",
      "1/1 [==============================] - 0s 996us/step - loss: 0.5682 - accuracy: 0.7500\n",
      "Epoch 166/200\n",
      "1/1 [==============================] - 0s 998us/step - loss: 0.5672 - accuracy: 0.7500\n",
      "Epoch 167/200\n",
      "1/1 [==============================] - 0s 997us/step - loss: 0.5663 - accuracy: 0.7500\n",
      "Epoch 168/200\n",
      "1/1 [==============================] - 0s 959us/step - loss: 0.5654 - accuracy: 0.7500\n",
      "Epoch 169/200\n",
      "1/1 [==============================] - 0s 997us/step - loss: 0.5644 - accuracy: 0.7500\n",
      "Epoch 170/200\n",
      "1/1 [==============================] - 0s 1ms/step - loss: 0.5635 - accuracy: 0.7500\n",
      "Epoch 171/200\n",
      "1/1 [==============================] - 0s 993us/step - loss: 0.5626 - accuracy: 0.7500\n",
      "Epoch 172/200\n",
      "1/1 [==============================] - 0s 996us/step - loss: 0.5617 - accuracy: 0.7500\n",
      "Epoch 173/200\n",
      "1/1 [==============================] - 0s 999us/step - loss: 0.5608 - accuracy: 0.7500\n",
      "Epoch 174/200\n",
      "1/1 [==============================] - 0s 962us/step - loss: 0.5599 - accuracy: 0.7500\n",
      "Epoch 175/200\n",
      "1/1 [==============================] - 0s 998us/step - loss: 0.5589 - accuracy: 0.7500\n",
      "Epoch 176/200\n",
      "1/1 [==============================] - 0s 998us/step - loss: 0.5580 - accuracy: 0.7500\n",
      "Epoch 177/200\n",
      "1/1 [==============================] - 0s 997us/step - loss: 0.5571 - accuracy: 0.7500\n",
      "Epoch 178/200\n",
      "1/1 [==============================] - 0s 997us/step - loss: 0.5562 - accuracy: 0.7500\n",
      "Epoch 179/200\n",
      "1/1 [==============================] - 0s 2ms/step - loss: 0.5553 - accuracy: 0.7500\n",
      "Epoch 180/200\n",
      "1/1 [==============================] - 0s 2ms/step - loss: 0.5545 - accuracy: 0.7500\n",
      "Epoch 181/200\n",
      "1/1 [==============================] - 0s 998us/step - loss: 0.5536 - accuracy: 0.7500\n",
      "Epoch 182/200\n",
      "1/1 [==============================] - 0s 2ms/step - loss: 0.5527 - accuracy: 0.7500\n",
      "Epoch 183/200\n",
      "1/1 [==============================] - 0s 995us/step - loss: 0.5518 - accuracy: 0.7500\n",
      "Epoch 184/200\n",
      "1/1 [==============================] - 0s 958us/step - loss: 0.5509 - accuracy: 0.7500\n",
      "Epoch 185/200\n",
      "1/1 [==============================] - 0s 965us/step - loss: 0.5501 - accuracy: 0.7500\n",
      "Epoch 186/200\n",
      "1/1 [==============================] - 0s 2ms/step - loss: 0.5492 - accuracy: 0.7500\n",
      "Epoch 187/200\n",
      "1/1 [==============================] - 0s 988us/step - loss: 0.5483 - accuracy: 0.7500\n",
      "Epoch 188/200\n",
      "1/1 [==============================] - 0s 996us/step - loss: 0.5474 - accuracy: 0.7500\n",
      "Epoch 189/200\n",
      "1/1 [==============================] - 0s 996us/step - loss: 0.5466 - accuracy: 0.7500\n",
      "Epoch 190/200\n",
      "1/1 [==============================] - 0s 984us/step - loss: 0.5457 - accuracy: 0.7500\n",
      "Epoch 191/200\n",
      "1/1 [==============================] - 0s 970us/step - loss: 0.5449 - accuracy: 0.7500\n",
      "Epoch 192/200\n",
      "1/1 [==============================] - 0s 997us/step - loss: 0.5440 - accuracy: 0.7500\n",
      "Epoch 193/200\n",
      "1/1 [==============================] - 0s 997us/step - loss: 0.5432 - accuracy: 0.7500\n",
      "Epoch 194/200\n",
      "1/1 [==============================] - 0s 999us/step - loss: 0.5423 - accuracy: 0.7500\n",
      "Epoch 195/200\n",
      "1/1 [==============================] - 0s 970us/step - loss: 0.5415 - accuracy: 0.7500\n",
      "Epoch 196/200\n",
      "1/1 [==============================] - 0s 998us/step - loss: 0.5406 - accuracy: 0.7500\n",
      "Epoch 197/200\n",
      "1/1 [==============================] - 0s 2ms/step - loss: 0.5398 - accuracy: 0.7500\n",
      "Epoch 198/200\n",
      "1/1 [==============================] - 0s 996us/step - loss: 0.5389 - accuracy: 0.7500\n",
      "Epoch 199/200\n",
      "1/1 [==============================] - 0s 997us/step - loss: 0.5381 - accuracy: 0.7500\n",
      "Epoch 200/200\n",
      "1/1 [==============================] - 0s 961us/step - loss: 0.5373 - accuracy: 0.7500\n"
     ]
    }
   ],
   "source": [
    "np.random.seed(42)\n",
    "tf.random.set_seed(42)\n",
    "\n",
    "keras.backend.clear_session() # Clear the previous model\n",
    "\n",
    "# create model\n",
    "model = keras.models.Sequential()\n",
    "\n",
    "# Input & Hidden Layer 1\n",
    "model.add(keras.layers.Dense(6, input_dim=np.array(X).shape[1], activation='sigmoid'))\n",
    "\n",
    "# Output Layer\n",
    "model.add(keras.layers.Dense(1,activation='sigmoid')) \n",
    "# use activation=\"softmax\" for multicalss classification\n",
    "\n",
    "# Compile model\n",
    "model.compile(optimizer='sgd',loss=\"binary_crossentropy\",metrics=['accuracy'])\n",
    "# sgd is stochastic gradient descent\n",
    "# loss=\"binary_crossentropy\" is for binary classification\n",
    "# use loss=\"sparse_categorical_crossentropy\" for multiclass classification\n",
    "\n",
    "history=model.fit(X,y,verbose=1,epochs=200)"
   ]
  },
  {
   "cell_type": "code",
   "execution_count": 5,
   "metadata": {},
   "outputs": [
    {
     "name": "stdout",
     "output_type": "stream",
     "text": [
      "Model: \"sequential\"\n",
      "_________________________________________________________________\n",
      "Layer (type)                 Output Shape              Param #   \n",
      "=================================================================\n",
      "dense (Dense)                (None, 6)                 18        \n",
      "_________________________________________________________________\n",
      "dense_1 (Dense)              (None, 1)                 7         \n",
      "=================================================================\n",
      "Total params: 25\n",
      "Trainable params: 25\n",
      "Non-trainable params: 0\n",
      "_________________________________________________________________\n"
     ]
    }
   ],
   "source": [
    "model.summary()"
   ]
  },
  {
   "cell_type": "code",
   "execution_count": 6,
   "metadata": {},
   "outputs": [
    {
     "name": "stdout",
     "output_type": "stream",
     "text": [
      "Weights:  [[ 0.37828332]\n",
      " [-0.15197238]\n",
      " [ 0.57736015]\n",
      " [-0.6945995 ]\n",
      " [ 0.02347528]\n",
      " [ 0.78492385]]\n",
      "Bias: [-0.2640285]\n"
     ]
    }
   ],
   "source": [
    "i=1\n",
    "weights_input = model.layers[i].get_weights()[0]\n",
    "print('Weights: ',weights_input)\n",
    "Bias = model.layers[i].get_weights()[1]\n",
    "print('Bias:',Bias)"
   ]
  },
  {
   "cell_type": "code",
   "execution_count": 7,
   "metadata": {},
   "outputs": [
    {
     "data": {
      "text/plain": [
       "array([[0.6444869 ],\n",
       "       [0.53500885],\n",
       "       [0.42337704],\n",
       "       [0.6769317 ]], dtype=float32)"
      ]
     },
     "execution_count": 7,
     "metadata": {},
     "output_type": "execute_result"
    }
   ],
   "source": [
    "pred=model.predict(X)\n",
    "pred"
   ]
  },
  {
   "cell_type": "markdown",
   "metadata": {},
   "source": [
    "The predict function gives probability of each class. We can simply convert to integer:"
   ]
  },
  {
   "cell_type": "code",
   "execution_count": 8,
   "metadata": {},
   "outputs": [
    {
     "data": {
      "text/plain": [
       "[1, 1, 0, 1]"
      ]
     },
     "execution_count": 8,
     "metadata": {},
     "output_type": "execute_result"
    }
   ],
   "source": [
    "pred=[1 if i >= 0.5 else 0 for i in pred]\n",
    "pred"
   ]
  },
  {
   "cell_type": "markdown",
   "metadata": {},
   "source": [
    "## Regression "
   ]
  },
  {
   "cell_type": "code",
   "execution_count": 9,
   "metadata": {},
   "outputs": [],
   "source": [
    "X=[[1.5,2.2],\n",
    "   [-1.1,1.6],\n",
    "   [-2.7,-0.5],\n",
    "   [3.1,2.5]]\n",
    "y=[1.6,\n",
    "   0.4,\n",
    "   0.98,\n",
    "   1.3]"
   ]
  },
  {
   "cell_type": "code",
   "execution_count": 10,
   "metadata": {},
   "outputs": [
    {
     "name": "stdout",
     "output_type": "stream",
     "text": [
      "Epoch 1/300\n",
      "1/1 [==============================] - 0s 2ms/step - loss: 0.2352\n",
      "Epoch 2/300\n",
      "1/1 [==============================] - 0s 987us/step - loss: 0.2024\n",
      "Epoch 3/300\n",
      "1/1 [==============================] - 0s 2ms/step - loss: 0.1784\n",
      "Epoch 4/300\n",
      "1/1 [==============================] - 0s 2ms/step - loss: 0.1604\n",
      "Epoch 5/300\n",
      "1/1 [==============================] - 0s 997us/step - loss: 0.1467\n",
      "Epoch 6/300\n",
      "1/1 [==============================] - 0s 999us/step - loss: 0.1361\n",
      "Epoch 7/300\n",
      "1/1 [==============================] - 0s 996us/step - loss: 0.1278\n",
      "Epoch 8/300\n",
      "1/1 [==============================] - 0s 2ms/step - loss: 0.1211\n",
      "Epoch 9/300\n",
      "1/1 [==============================] - 0s 998us/step - loss: 0.1157\n",
      "Epoch 10/300\n",
      "1/1 [==============================] - 0s 997us/step - loss: 0.1113\n",
      "Epoch 11/300\n",
      "1/1 [==============================] - 0s 997us/step - loss: 0.1076\n",
      "Epoch 12/300\n",
      "1/1 [==============================] - 0s 0s/step - loss: 0.1045\n",
      "Epoch 13/300\n",
      "1/1 [==============================] - 0s 997us/step - loss: 0.1019\n",
      "Epoch 14/300\n",
      "1/1 [==============================] - 0s 998us/step - loss: 0.0996\n",
      "Epoch 15/300\n",
      "1/1 [==============================] - 0s 1ms/step - loss: 0.0977\n",
      "Epoch 16/300\n",
      "1/1 [==============================] - 0s 997us/step - loss: 0.0960\n",
      "Epoch 17/300\n",
      "1/1 [==============================] - 0s 2ms/step - loss: 0.0944\n",
      "Epoch 18/300\n",
      "1/1 [==============================] - 0s 997us/step - loss: 0.0931\n",
      "Epoch 19/300\n",
      "1/1 [==============================] - 0s 996us/step - loss: 0.0919\n",
      "Epoch 20/300\n",
      "1/1 [==============================] - 0s 998us/step - loss: 0.0908\n",
      "Epoch 21/300\n",
      "1/1 [==============================] - 0s 997us/step - loss: 0.0898\n",
      "Epoch 22/300\n",
      "1/1 [==============================] - 0s 998us/step - loss: 0.0889\n",
      "Epoch 23/300\n",
      "1/1 [==============================] - 0s 1ms/step - loss: 0.0881\n",
      "Epoch 24/300\n",
      "1/1 [==============================] - 0s 994us/step - loss: 0.0873\n",
      "Epoch 25/300\n",
      "1/1 [==============================] - 0s 0s/step - loss: 0.0866\n",
      "Epoch 26/300\n",
      "1/1 [==============================] - 0s 998us/step - loss: 0.0859\n",
      "Epoch 27/300\n",
      "1/1 [==============================] - 0s 984us/step - loss: 0.0853\n",
      "Epoch 28/300\n",
      "1/1 [==============================] - 0s 999us/step - loss: 0.0848\n",
      "Epoch 29/300\n",
      "1/1 [==============================] - 0s 0s/step - loss: 0.0842\n",
      "Epoch 30/300\n",
      "1/1 [==============================] - 0s 997us/step - loss: 0.0837\n",
      "Epoch 31/300\n",
      "1/1 [==============================] - 0s 998us/step - loss: 0.0833\n",
      "Epoch 32/300\n",
      "1/1 [==============================] - 0s 998us/step - loss: 0.0828\n",
      "Epoch 33/300\n",
      "1/1 [==============================] - 0s 958us/step - loss: 0.0824\n",
      "Epoch 34/300\n",
      "1/1 [==============================] - 0s 997us/step - loss: 0.0820\n",
      "Epoch 35/300\n",
      "1/1 [==============================] - 0s 996us/step - loss: 0.0817\n",
      "Epoch 36/300\n",
      "1/1 [==============================] - 0s 997us/step - loss: 0.0813\n",
      "Epoch 37/300\n",
      "1/1 [==============================] - 0s 997us/step - loss: 0.0810\n",
      "Epoch 38/300\n",
      "1/1 [==============================] - 0s 986us/step - loss: 0.0806\n",
      "Epoch 39/300\n",
      "1/1 [==============================] - 0s 996us/step - loss: 0.0803\n",
      "Epoch 40/300\n",
      "1/1 [==============================] - 0s 999us/step - loss: 0.0800\n",
      "Epoch 41/300\n",
      "1/1 [==============================] - 0s 2ms/step - loss: 0.0798\n",
      "Epoch 42/300\n",
      "1/1 [==============================] - 0s 996us/step - loss: 0.0795\n",
      "Epoch 43/300\n",
      "1/1 [==============================] - 0s 998us/step - loss: 0.0792\n",
      "Epoch 44/300\n",
      "1/1 [==============================] - 0s 999us/step - loss: 0.0790\n",
      "Epoch 45/300\n",
      "1/1 [==============================] - 0s 958us/step - loss: 0.0788\n",
      "Epoch 46/300\n",
      "1/1 [==============================] - 0s 995us/step - loss: 0.0785\n",
      "Epoch 47/300\n",
      "1/1 [==============================] - 0s 998us/step - loss: 0.0783\n",
      "Epoch 48/300\n",
      "1/1 [==============================] - 0s 2ms/step - loss: 0.0781\n",
      "Epoch 49/300\n",
      "1/1 [==============================] - 0s 997us/step - loss: 0.0779\n",
      "Epoch 50/300\n",
      "1/1 [==============================] - 0s 997us/step - loss: 0.0777\n",
      "Epoch 51/300\n",
      "1/1 [==============================] - 0s 995us/step - loss: 0.0775\n",
      "Epoch 52/300\n",
      "1/1 [==============================] - 0s 998us/step - loss: 0.0773\n",
      "Epoch 53/300\n",
      "1/1 [==============================] - 0s 996us/step - loss: 0.0771\n",
      "Epoch 54/300\n",
      "1/1 [==============================] - 0s 2ms/step - loss: 0.0770\n",
      "Epoch 55/300\n",
      "1/1 [==============================] - 0s 0s/step - loss: 0.0768\n",
      "Epoch 56/300\n",
      "1/1 [==============================] - 0s 998us/step - loss: 0.0767\n",
      "Epoch 57/300\n",
      "1/1 [==============================] - 0s 1ms/step - loss: 0.0765\n",
      "Epoch 58/300\n",
      "1/1 [==============================] - 0s 0s/step - loss: 0.0764\n",
      "Epoch 59/300\n",
      "1/1 [==============================] - 0s 2ms/step - loss: 0.0762\n",
      "Epoch 60/300\n",
      "1/1 [==============================] - 0s 995us/step - loss: 0.0761\n",
      "Epoch 61/300\n",
      "1/1 [==============================] - 0s 998us/step - loss: 0.0759\n",
      "Epoch 62/300\n",
      "1/1 [==============================] - 0s 995us/step - loss: 0.0758\n",
      "Epoch 63/300\n",
      "1/1 [==============================] - 0s 997us/step - loss: 0.0757\n",
      "Epoch 64/300\n",
      "1/1 [==============================] - 0s 994us/step - loss: 0.0756\n",
      "Epoch 65/300\n",
      "1/1 [==============================] - 0s 973us/step - loss: 0.0754\n",
      "Epoch 66/300\n",
      "1/1 [==============================] - 0s 0s/step - loss: 0.0753\n",
      "Epoch 67/300\n",
      "1/1 [==============================] - 0s 997us/step - loss: 0.0752\n",
      "Epoch 68/300\n",
      "1/1 [==============================] - 0s 997us/step - loss: 0.0751\n",
      "Epoch 69/300\n",
      "1/1 [==============================] - 0s 0s/step - loss: 0.0750\n",
      "Epoch 70/300\n",
      "1/1 [==============================] - 0s 994us/step - loss: 0.0749\n",
      "Epoch 71/300\n",
      "1/1 [==============================] - 0s 999us/step - loss: 0.0748\n",
      "Epoch 72/300\n",
      "1/1 [==============================] - 0s 2ms/step - loss: 0.0747\n",
      "Epoch 73/300\n",
      "1/1 [==============================] - 0s 2ms/step - loss: 0.0746\n",
      "Epoch 74/300\n",
      "1/1 [==============================] - 0s 995us/step - loss: 0.0745\n",
      "Epoch 75/300\n",
      "1/1 [==============================] - 0s 2ms/step - loss: 0.0744\n",
      "Epoch 76/300\n",
      "1/1 [==============================] - 0s 2ms/step - loss: 0.0743\n",
      "Epoch 77/300\n",
      "1/1 [==============================] - 0s 2ms/step - loss: 0.0742\n",
      "Epoch 78/300\n",
      "1/1 [==============================] - 0s 997us/step - loss: 0.0741\n",
      "Epoch 79/300\n",
      "1/1 [==============================] - 0s 0s/step - loss: 0.0741\n",
      "Epoch 80/300\n",
      "1/1 [==============================] - 0s 996us/step - loss: 0.0740\n",
      "Epoch 81/300\n",
      "1/1 [==============================] - 0s 997us/step - loss: 0.0739\n",
      "Epoch 82/300\n",
      "1/1 [==============================] - 0s 998us/step - loss: 0.0738\n",
      "Epoch 83/300\n",
      "1/1 [==============================] - 0s 2ms/step - loss: 0.0738\n",
      "Epoch 84/300\n",
      "1/1 [==============================] - 0s 997us/step - loss: 0.0737\n",
      "Epoch 85/300\n",
      "1/1 [==============================] - 0s 999us/step - loss: 0.0736\n",
      "Epoch 86/300\n",
      "1/1 [==============================] - 0s 2ms/step - loss: 0.0735\n",
      "Epoch 87/300\n",
      "1/1 [==============================] - 0s 997us/step - loss: 0.0735\n",
      "Epoch 88/300\n",
      "1/1 [==============================] - 0s 998us/step - loss: 0.0734\n",
      "Epoch 89/300\n",
      "1/1 [==============================] - 0s 998us/step - loss: 0.0733\n",
      "Epoch 90/300\n",
      "1/1 [==============================] - 0s 2ms/step - loss: 0.0733\n",
      "Epoch 91/300\n",
      "1/1 [==============================] - 0s 998us/step - loss: 0.0732\n",
      "Epoch 92/300\n",
      "1/1 [==============================] - 0s 994us/step - loss: 0.0731\n",
      "Epoch 93/300\n",
      "1/1 [==============================] - 0s 998us/step - loss: 0.0731\n",
      "Epoch 94/300\n",
      "1/1 [==============================] - 0s 1ms/step - loss: 0.0730\n",
      "Epoch 95/300\n",
      "1/1 [==============================] - 0s 0s/step - loss: 0.0730\n",
      "Epoch 96/300\n",
      "1/1 [==============================] - 0s 997us/step - loss: 0.0729\n",
      "Epoch 97/300\n",
      "1/1 [==============================] - 0s 998us/step - loss: 0.0728\n",
      "Epoch 98/300\n",
      "1/1 [==============================] - 0s 995us/step - loss: 0.0728\n",
      "Epoch 99/300\n",
      "1/1 [==============================] - 0s 993us/step - loss: 0.0727\n",
      "Epoch 100/300\n",
      "1/1 [==============================] - 0s 998us/step - loss: 0.0727\n",
      "Epoch 101/300\n",
      "1/1 [==============================] - 0s 2ms/step - loss: 0.0726\n",
      "Epoch 102/300\n",
      "1/1 [==============================] - 0s 998us/step - loss: 0.0726\n",
      "Epoch 103/300\n"
     ]
    },
    {
     "name": "stdout",
     "output_type": "stream",
     "text": [
      "1/1 [==============================] - 0s 997us/step - loss: 0.0725\n",
      "Epoch 104/300\n",
      "1/1 [==============================] - 0s 996us/step - loss: 0.0725\n",
      "Epoch 105/300\n",
      "1/1 [==============================] - 0s 945us/step - loss: 0.0724\n",
      "Epoch 106/300\n",
      "1/1 [==============================] - 0s 997us/step - loss: 0.0724\n",
      "Epoch 107/300\n",
      "1/1 [==============================] - 0s 2ms/step - loss: 0.0723\n",
      "Epoch 108/300\n",
      "1/1 [==============================] - 0s 997us/step - loss: 0.0723\n",
      "Epoch 109/300\n",
      "1/1 [==============================] - 0s 998us/step - loss: 0.0722\n",
      "Epoch 110/300\n",
      "1/1 [==============================] - 0s 998us/step - loss: 0.0722\n",
      "Epoch 111/300\n",
      "1/1 [==============================] - 0s 997us/step - loss: 0.0721\n",
      "Epoch 112/300\n",
      "1/1 [==============================] - 0s 2ms/step - loss: 0.0721\n",
      "Epoch 113/300\n",
      "1/1 [==============================] - 0s 993us/step - loss: 0.0720\n",
      "Epoch 114/300\n",
      "1/1 [==============================] - 0s 997us/step - loss: 0.0720\n",
      "Epoch 115/300\n",
      "1/1 [==============================] - 0s 998us/step - loss: 0.0719\n",
      "Epoch 116/300\n",
      "1/1 [==============================] - 0s 2ms/step - loss: 0.0719\n",
      "Epoch 117/300\n",
      "1/1 [==============================] - 0s 995us/step - loss: 0.0718\n",
      "Epoch 118/300\n",
      "1/1 [==============================] - 0s 998us/step - loss: 0.0718\n",
      "Epoch 119/300\n",
      "1/1 [==============================] - 0s 0s/step - loss: 0.0718\n",
      "Epoch 120/300\n",
      "1/1 [==============================] - 0s 997us/step - loss: 0.0717\n",
      "Epoch 121/300\n",
      "1/1 [==============================] - 0s 996us/step - loss: 0.0717\n",
      "Epoch 122/300\n",
      "1/1 [==============================] - 0s 998us/step - loss: 0.0716\n",
      "Epoch 123/300\n",
      "1/1 [==============================] - 0s 994us/step - loss: 0.0716\n",
      "Epoch 124/300\n",
      "1/1 [==============================] - 0s 995us/step - loss: 0.0715\n",
      "Epoch 125/300\n",
      "1/1 [==============================] - 0s 998us/step - loss: 0.0715\n",
      "Epoch 126/300\n",
      "1/1 [==============================] - 0s 0s/step - loss: 0.0715\n",
      "Epoch 127/300\n",
      "1/1 [==============================] - 0s 985us/step - loss: 0.0714\n",
      "Epoch 128/300\n",
      "1/1 [==============================] - 0s 0s/step - loss: 0.0714\n",
      "Epoch 129/300\n",
      "1/1 [==============================] - 0s 2ms/step - loss: 0.0713\n",
      "Epoch 130/300\n",
      "1/1 [==============================] - 0s 0s/step - loss: 0.0713\n",
      "Epoch 131/300\n",
      "1/1 [==============================] - 0s 1ms/step - loss: 0.0713\n",
      "Epoch 132/300\n",
      "1/1 [==============================] - 0s 997us/step - loss: 0.0712\n",
      "Epoch 133/300\n",
      "1/1 [==============================] - 0s 998us/step - loss: 0.0712\n",
      "Epoch 134/300\n",
      "1/1 [==============================] - 0s 960us/step - loss: 0.0711\n",
      "Epoch 135/300\n",
      "1/1 [==============================] - 0s 0s/step - loss: 0.0711\n",
      "Epoch 136/300\n",
      "1/1 [==============================] - 0s 0s/step - loss: 0.0711\n",
      "Epoch 137/300\n",
      "1/1 [==============================] - 0s 996us/step - loss: 0.0710\n",
      "Epoch 138/300\n",
      "1/1 [==============================] - 0s 997us/step - loss: 0.0710\n",
      "Epoch 139/300\n",
      "1/1 [==============================] - 0s 997us/step - loss: 0.0709\n",
      "Epoch 140/300\n",
      "1/1 [==============================] - 0s 0s/step - loss: 0.0709\n",
      "Epoch 141/300\n",
      "1/1 [==============================] - 0s 998us/step - loss: 0.0709\n",
      "Epoch 142/300\n",
      "1/1 [==============================] - 0s 998us/step - loss: 0.0708\n",
      "Epoch 143/300\n",
      "1/1 [==============================] - 0s 997us/step - loss: 0.0708\n",
      "Epoch 144/300\n",
      "1/1 [==============================] - 0s 996us/step - loss: 0.0708\n",
      "Epoch 145/300\n",
      "1/1 [==============================] - 0s 996us/step - loss: 0.0707\n",
      "Epoch 146/300\n",
      "1/1 [==============================] - 0s 951us/step - loss: 0.0707\n",
      "Epoch 147/300\n",
      "1/1 [==============================] - 0s 0s/step - loss: 0.0706\n",
      "Epoch 148/300\n",
      "1/1 [==============================] - 0s 999us/step - loss: 0.0706\n",
      "Epoch 149/300\n",
      "1/1 [==============================] - 0s 998us/step - loss: 0.0706\n",
      "Epoch 150/300\n",
      "1/1 [==============================] - 0s 0s/step - loss: 0.0705\n",
      "Epoch 151/300\n",
      "1/1 [==============================] - 0s 2ms/step - loss: 0.0705\n",
      "Epoch 152/300\n",
      "1/1 [==============================] - 0s 997us/step - loss: 0.0705\n",
      "Epoch 153/300\n",
      "1/1 [==============================] - 0s 2ms/step - loss: 0.0704\n",
      "Epoch 154/300\n",
      "1/1 [==============================] - 0s 998us/step - loss: 0.0704\n",
      "Epoch 155/300\n",
      "1/1 [==============================] - 0s 2ms/step - loss: 0.0704\n",
      "Epoch 156/300\n",
      "1/1 [==============================] - 0s 960us/step - loss: 0.0703\n",
      "Epoch 157/300\n",
      "1/1 [==============================] - 0s 2ms/step - loss: 0.0703\n",
      "Epoch 158/300\n",
      "1/1 [==============================] - 0s 2ms/step - loss: 0.0703\n",
      "Epoch 159/300\n",
      "1/1 [==============================] - 0s 996us/step - loss: 0.0702\n",
      "Epoch 160/300\n",
      "1/1 [==============================] - 0s 957us/step - loss: 0.0702\n",
      "Epoch 161/300\n",
      "1/1 [==============================] - 0s 997us/step - loss: 0.0701\n",
      "Epoch 162/300\n",
      "1/1 [==============================] - 0s 997us/step - loss: 0.0701\n",
      "Epoch 163/300\n",
      "1/1 [==============================] - 0s 2ms/step - loss: 0.0701\n",
      "Epoch 164/300\n",
      "1/1 [==============================] - 0s 998us/step - loss: 0.0700\n",
      "Epoch 165/300\n",
      "1/1 [==============================] - 0s 997us/step - loss: 0.0700\n",
      "Epoch 166/300\n",
      "1/1 [==============================] - 0s 1ms/step - loss: 0.0700\n",
      "Epoch 167/300\n",
      "1/1 [==============================] - 0s 997us/step - loss: 0.0699\n",
      "Epoch 168/300\n",
      "1/1 [==============================] - 0s 996us/step - loss: 0.0699\n",
      "Epoch 169/300\n",
      "1/1 [==============================] - 0s 2ms/step - loss: 0.0699\n",
      "Epoch 170/300\n",
      "1/1 [==============================] - 0s 998us/step - loss: 0.0698\n",
      "Epoch 171/300\n",
      "1/1 [==============================] - 0s 1ms/step - loss: 0.0698\n",
      "Epoch 172/300\n",
      "1/1 [==============================] - 0s 2ms/step - loss: 0.0698\n",
      "Epoch 173/300\n",
      "1/1 [==============================] - 0s 2ms/step - loss: 0.0697\n",
      "Epoch 174/300\n",
      "1/1 [==============================] - 0s 997us/step - loss: 0.0697\n",
      "Epoch 175/300\n",
      "1/1 [==============================] - 0s 1ms/step - loss: 0.0697\n",
      "Epoch 176/300\n",
      "1/1 [==============================] - 0s 2ms/step - loss: 0.0696\n",
      "Epoch 177/300\n",
      "1/1 [==============================] - 0s 999us/step - loss: 0.0696\n",
      "Epoch 178/300\n",
      "1/1 [==============================] - 0s 2ms/step - loss: 0.0696\n",
      "Epoch 179/300\n",
      "1/1 [==============================] - 0s 998us/step - loss: 0.0695\n",
      "Epoch 180/300\n",
      "1/1 [==============================] - 0s 2ms/step - loss: 0.0695\n",
      "Epoch 181/300\n",
      "1/1 [==============================] - 0s 998us/step - loss: 0.0695\n",
      "Epoch 182/300\n",
      "1/1 [==============================] - 0s 996us/step - loss: 0.0694\n",
      "Epoch 183/300\n",
      "1/1 [==============================] - 0s 2ms/step - loss: 0.0694\n",
      "Epoch 184/300\n",
      "1/1 [==============================] - 0s 997us/step - loss: 0.0694\n",
      "Epoch 185/300\n",
      "1/1 [==============================] - 0s 997us/step - loss: 0.0693\n",
      "Epoch 186/300\n",
      "1/1 [==============================] - 0s 998us/step - loss: 0.0693\n",
      "Epoch 187/300\n",
      "1/1 [==============================] - 0s 998us/step - loss: 0.0693\n",
      "Epoch 188/300\n",
      "1/1 [==============================] - 0s 996us/step - loss: 0.0692\n",
      "Epoch 189/300\n",
      "1/1 [==============================] - 0s 997us/step - loss: 0.0692\n",
      "Epoch 190/300\n",
      "1/1 [==============================] - 0s 997us/step - loss: 0.0692\n",
      "Epoch 191/300\n",
      "1/1 [==============================] - 0s 2ms/step - loss: 0.0691\n",
      "Epoch 192/300\n",
      "1/1 [==============================] - 0s 997us/step - loss: 0.0691\n",
      "Epoch 193/300\n",
      "1/1 [==============================] - 0s 996us/step - loss: 0.0691\n",
      "Epoch 194/300\n",
      "1/1 [==============================] - 0s 1ms/step - loss: 0.0691\n",
      "Epoch 195/300\n",
      "1/1 [==============================] - 0s 998us/step - loss: 0.0690\n",
      "Epoch 196/300\n",
      "1/1 [==============================] - 0s 998us/step - loss: 0.0690\n",
      "Epoch 197/300\n",
      "1/1 [==============================] - 0s 997us/step - loss: 0.0690\n",
      "Epoch 198/300\n",
      "1/1 [==============================] - 0s 997us/step - loss: 0.0689\n",
      "Epoch 199/300\n",
      "1/1 [==============================] - 0s 997us/step - loss: 0.0689\n",
      "Epoch 200/300\n",
      "1/1 [==============================] - 0s 3ms/step - loss: 0.0689\n",
      "Epoch 201/300\n",
      "1/1 [==============================] - 0s 0s/step - loss: 0.0688\n",
      "Epoch 202/300\n",
      "1/1 [==============================] - 0s 2ms/step - loss: 0.0688\n",
      "Epoch 203/300\n",
      "1/1 [==============================] - 0s 998us/step - loss: 0.0688\n",
      "Epoch 204/300\n"
     ]
    },
    {
     "name": "stdout",
     "output_type": "stream",
     "text": [
      "1/1 [==============================] - 0s 962us/step - loss: 0.0687\n",
      "Epoch 205/300\n",
      "1/1 [==============================] - 0s 998us/step - loss: 0.0687\n",
      "Epoch 206/300\n",
      "1/1 [==============================] - 0s 991us/step - loss: 0.0687\n",
      "Epoch 207/300\n",
      "1/1 [==============================] - 0s 0s/step - loss: 0.0686\n",
      "Epoch 208/300\n",
      "1/1 [==============================] - 0s 995us/step - loss: 0.0686\n",
      "Epoch 209/300\n",
      "1/1 [==============================] - 0s 0s/step - loss: 0.0686\n",
      "Epoch 210/300\n",
      "1/1 [==============================] - 0s 998us/step - loss: 0.0685\n",
      "Epoch 211/300\n",
      "1/1 [==============================] - 0s 996us/step - loss: 0.0685\n",
      "Epoch 212/300\n",
      "1/1 [==============================] - 0s 2ms/step - loss: 0.0685\n",
      "Epoch 213/300\n",
      "1/1 [==============================] - 0s 996us/step - loss: 0.0684\n",
      "Epoch 214/300\n",
      "1/1 [==============================] - 0s 997us/step - loss: 0.0684\n",
      "Epoch 215/300\n",
      "1/1 [==============================] - 0s 998us/step - loss: 0.0684\n",
      "Epoch 216/300\n",
      "1/1 [==============================] - 0s 999us/step - loss: 0.0684\n",
      "Epoch 217/300\n",
      "1/1 [==============================] - 0s 2ms/step - loss: 0.0683\n",
      "Epoch 218/300\n",
      "1/1 [==============================] - 0s 990us/step - loss: 0.0683\n",
      "Epoch 219/300\n",
      "1/1 [==============================] - 0s 996us/step - loss: 0.0683\n",
      "Epoch 220/300\n",
      "1/1 [==============================] - 0s 0s/step - loss: 0.0682\n",
      "Epoch 221/300\n",
      "1/1 [==============================] - 0s 998us/step - loss: 0.0682\n",
      "Epoch 222/300\n",
      "1/1 [==============================] - 0s 997us/step - loss: 0.0682\n",
      "Epoch 223/300\n",
      "1/1 [==============================] - 0s 998us/step - loss: 0.0681\n",
      "Epoch 224/300\n",
      "1/1 [==============================] - 0s 998us/step - loss: 0.0681\n",
      "Epoch 225/300\n",
      "1/1 [==============================] - 0s 993us/step - loss: 0.0681\n",
      "Epoch 226/300\n",
      "1/1 [==============================] - 0s 986us/step - loss: 0.0680\n",
      "Epoch 227/300\n",
      "1/1 [==============================] - 0s 0s/step - loss: 0.0680\n",
      "Epoch 228/300\n",
      "1/1 [==============================] - 0s 996us/step - loss: 0.0680\n",
      "Epoch 229/300\n",
      "1/1 [==============================] - 0s 997us/step - loss: 0.0679\n",
      "Epoch 230/300\n",
      "1/1 [==============================] - 0s 998us/step - loss: 0.0679\n",
      "Epoch 231/300\n",
      "1/1 [==============================] - 0s 997us/step - loss: 0.0679\n",
      "Epoch 232/300\n",
      "1/1 [==============================] - 0s 2ms/step - loss: 0.0679\n",
      "Epoch 233/300\n",
      "1/1 [==============================] - 0s 998us/step - loss: 0.0678\n",
      "Epoch 234/300\n",
      "1/1 [==============================] - 0s 995us/step - loss: 0.0678\n",
      "Epoch 235/300\n",
      "1/1 [==============================] - 0s 998us/step - loss: 0.0678\n",
      "Epoch 236/300\n",
      "1/1 [==============================] - 0s 996us/step - loss: 0.0677\n",
      "Epoch 237/300\n",
      "1/1 [==============================] - 0s 999us/step - loss: 0.0677\n",
      "Epoch 238/300\n",
      "1/1 [==============================] - 0s 997us/step - loss: 0.0677\n",
      "Epoch 239/300\n",
      "1/1 [==============================] - 0s 998us/step - loss: 0.0676\n",
      "Epoch 240/300\n",
      "1/1 [==============================] - 0s 997us/step - loss: 0.0676\n",
      "Epoch 241/300\n",
      "1/1 [==============================] - 0s 998us/step - loss: 0.0676\n",
      "Epoch 242/300\n",
      "1/1 [==============================] - 0s 2ms/step - loss: 0.0676\n",
      "Epoch 243/300\n",
      "1/1 [==============================] - 0s 996us/step - loss: 0.0675\n",
      "Epoch 244/300\n",
      "1/1 [==============================] - 0s 995us/step - loss: 0.0675\n",
      "Epoch 245/300\n",
      "1/1 [==============================] - 0s 1ms/step - loss: 0.0675\n",
      "Epoch 246/300\n",
      "1/1 [==============================] - 0s 927us/step - loss: 0.0674\n",
      "Epoch 247/300\n",
      "1/1 [==============================] - 0s 996us/step - loss: 0.0674\n",
      "Epoch 248/300\n",
      "1/1 [==============================] - 0s 998us/step - loss: 0.0674\n",
      "Epoch 249/300\n",
      "1/1 [==============================] - 0s 998us/step - loss: 0.0673\n",
      "Epoch 250/300\n",
      "1/1 [==============================] - 0s 996us/step - loss: 0.0673\n",
      "Epoch 251/300\n",
      "1/1 [==============================] - 0s 998us/step - loss: 0.0673\n",
      "Epoch 252/300\n",
      "1/1 [==============================] - 0s 997us/step - loss: 0.0672\n",
      "Epoch 253/300\n",
      "1/1 [==============================] - 0s 996us/step - loss: 0.0672\n",
      "Epoch 254/300\n",
      "1/1 [==============================] - 0s 998us/step - loss: 0.0672\n",
      "Epoch 255/300\n",
      "1/1 [==============================] - 0s 2ms/step - loss: 0.0672\n",
      "Epoch 256/300\n",
      "1/1 [==============================] - 0s 998us/step - loss: 0.0671\n",
      "Epoch 257/300\n",
      "1/1 [==============================] - 0s 1000us/step - loss: 0.0671\n",
      "Epoch 258/300\n",
      "1/1 [==============================] - 0s 998us/step - loss: 0.0671\n",
      "Epoch 259/300\n",
      "1/1 [==============================] - 0s 3ms/step - loss: 0.0670\n",
      "Epoch 260/300\n",
      "1/1 [==============================] - 0s 2ms/step - loss: 0.0670\n",
      "Epoch 261/300\n",
      "1/1 [==============================] - 0s 2ms/step - loss: 0.0670\n",
      "Epoch 262/300\n",
      "1/1 [==============================] - 0s 995us/step - loss: 0.0669\n",
      "Epoch 263/300\n",
      "1/1 [==============================] - 0s 995us/step - loss: 0.0669\n",
      "Epoch 264/300\n",
      "1/1 [==============================] - 0s 996us/step - loss: 0.0669\n",
      "Epoch 265/300\n",
      "1/1 [==============================] - 0s 997us/step - loss: 0.0669\n",
      "Epoch 266/300\n",
      "1/1 [==============================] - 0s 2ms/step - loss: 0.0668\n",
      "Epoch 267/300\n",
      "1/1 [==============================] - 0s 997us/step - loss: 0.0668\n",
      "Epoch 268/300\n",
      "1/1 [==============================] - 0s 0s/step - loss: 0.0668\n",
      "Epoch 269/300\n",
      "1/1 [==============================] - 0s 996us/step - loss: 0.0667\n",
      "Epoch 270/300\n",
      "1/1 [==============================] - 0s 0s/step - loss: 0.0667\n",
      "Epoch 271/300\n",
      "1/1 [==============================] - 0s 1ms/step - loss: 0.0667\n",
      "Epoch 272/300\n",
      "1/1 [==============================] - 0s 998us/step - loss: 0.0667\n",
      "Epoch 273/300\n",
      "1/1 [==============================] - 0s 999us/step - loss: 0.0666\n",
      "Epoch 274/300\n",
      "1/1 [==============================] - 0s 0s/step - loss: 0.0666\n",
      "Epoch 275/300\n",
      "1/1 [==============================] - 0s 996us/step - loss: 0.0666\n",
      "Epoch 276/300\n",
      "1/1 [==============================] - 0s 997us/step - loss: 0.0665\n",
      "Epoch 277/300\n",
      "1/1 [==============================] - 0s 1000us/step - loss: 0.0665\n",
      "Epoch 278/300\n",
      "1/1 [==============================] - 0s 997us/step - loss: 0.0665\n",
      "Epoch 279/300\n",
      "1/1 [==============================] - 0s 995us/step - loss: 0.0664\n",
      "Epoch 280/300\n",
      "1/1 [==============================] - 0s 2ms/step - loss: 0.0664\n",
      "Epoch 281/300\n",
      "1/1 [==============================] - 0s 996us/step - loss: 0.0664\n",
      "Epoch 282/300\n",
      "1/1 [==============================] - 0s 999us/step - loss: 0.0664\n",
      "Epoch 283/300\n",
      "1/1 [==============================] - 0s 994us/step - loss: 0.0663\n",
      "Epoch 284/300\n",
      "1/1 [==============================] - 0s 965us/step - loss: 0.0663\n",
      "Epoch 285/300\n",
      "1/1 [==============================] - 0s 995us/step - loss: 0.0663\n",
      "Epoch 286/300\n",
      "1/1 [==============================] - 0s 997us/step - loss: 0.0662\n",
      "Epoch 287/300\n",
      "1/1 [==============================] - 0s 999us/step - loss: 0.0662\n",
      "Epoch 288/300\n",
      "1/1 [==============================] - 0s 2ms/step - loss: 0.0662\n",
      "Epoch 289/300\n",
      "1/1 [==============================] - 0s 997us/step - loss: 0.0661\n",
      "Epoch 290/300\n",
      "1/1 [==============================] - 0s 999us/step - loss: 0.0661\n",
      "Epoch 291/300\n",
      "1/1 [==============================] - 0s 996us/step - loss: 0.0661\n",
      "Epoch 292/300\n",
      "1/1 [==============================] - 0s 997us/step - loss: 0.0661\n",
      "Epoch 293/300\n",
      "1/1 [==============================] - 0s 996us/step - loss: 0.0660\n",
      "Epoch 294/300\n",
      "1/1 [==============================] - 0s 995us/step - loss: 0.0660\n",
      "Epoch 295/300\n",
      "1/1 [==============================] - 0s 0s/step - loss: 0.0660\n",
      "Epoch 296/300\n",
      "1/1 [==============================] - 0s 968us/step - loss: 0.0659\n",
      "Epoch 297/300\n",
      "1/1 [==============================] - 0s 998us/step - loss: 0.0659\n",
      "Epoch 298/300\n",
      "1/1 [==============================] - 0s 996us/step - loss: 0.0659\n",
      "Epoch 299/300\n",
      "1/1 [==============================] - 0s 2ms/step - loss: 0.0659\n",
      "Epoch 300/300\n",
      "1/1 [==============================] - 0s 998us/step - loss: 0.0658\n"
     ]
    }
   ],
   "source": [
    "np.random.seed(42)\n",
    "tf.random.set_seed(42)\n",
    "\n",
    "keras.backend.clear_session() # Clear the previous model\n",
    "\n",
    "# create model\n",
    "model = keras.models.Sequential()\n",
    "\n",
    "# Input & Hidden Layer 1\n",
    "model.add(keras.layers.Dense(6, input_dim=np.array(X).shape[1], activation='relu'))\n",
    "\n",
    "# Output Layer \n",
    "model.add(keras.layers.Dense(1)) \n",
    "\n",
    "# Compile model\n",
    "model.compile(optimizer='sgd',loss=\"mse\")\n",
    "\n",
    "history=model.fit(X,y,verbose=1,epochs=300)"
   ]
  },
  {
   "cell_type": "code",
   "execution_count": 11,
   "metadata": {},
   "outputs": [
    {
     "data": {
      "text/plain": [
       "array([[1.1854893 ],\n",
       "       [0.5455201 ],\n",
       "       [0.97490805],\n",
       "       [1.5648893 ]], dtype=float32)"
      ]
     },
     "execution_count": 11,
     "metadata": {},
     "output_type": "execute_result"
    }
   ],
   "source": [
    "pred=model.predict(X)\n",
    "pred"
   ]
  },
  {
   "cell_type": "code",
   "execution_count": null,
   "metadata": {},
   "outputs": [],
   "source": []
  },
  {
   "cell_type": "markdown",
   "metadata": {},
   "source": [
    "You can see by increasing number of epochs, the model will greatly overfit training data. The easiest technique is to apply early stopping as we discussed before; it stops iteration when error in validation set start to increase while error in training set keep decreasing. So, first you need to divide data into training set and test set; then the training set should be divided to smaller training set and validation. The test set should be applied in the end only for measuring the error of the model."
   ]
  },
  {
   "cell_type": "code",
   "execution_count": null,
   "metadata": {},
   "outputs": [],
   "source": []
  },
  {
   "cell_type": "markdown",
   "metadata": {},
   "source": [
    "**Visit the TensorFlow Playground at https://playground.tensorflow.org/, play with the parameters, change Hidden layera, Neurons.. choose regression and classification task to understand the problem**"
   ]
  },
  {
   "cell_type": "markdown",
   "metadata": {},
   "source": [
    "# Energy Efficiency Data Set"
   ]
  },
  {
   "cell_type": "markdown",
   "metadata": {},
   "source": [
    "Lets apply ANN for Energy Efficiency data set for both regression and classification. First get training data:"
   ]
  },
  {
   "cell_type": "markdown",
   "metadata": {},
   "source": [
    "## Binary Classification"
   ]
  },
  {
   "cell_type": "code",
   "execution_count": 12,
   "metadata": {},
   "outputs": [],
   "source": [
    "import pandas as pd\n",
    "import numpy as np\n",
    "from sklearn.model_selection import StratifiedShuffleSplit\n",
    "from sklearn.preprocessing import StandardScaler\n",
    "from sklearn.model_selection import train_test_split\n",
    "\n",
    "df = pd.read_csv('./Data/Building_Heating_Load.csv',na_values=['NA','?',' '])\n",
    "np.random.seed(32) \n",
    "df=df.reindex(np.random.permutation(df.index))\n",
    "df.reset_index(inplace=True, drop=True)\n",
    "#\n",
    "df_binary=df.copy()\n",
    "df_binary.drop(['Heating Load','Multi-Classes'], axis=1, inplace=True)\n",
    "#\n",
    "df_binary['Binary Classes']=df_binary['Binary Classes'].replace('Low Level', 0)\n",
    "df_binary['Binary Classes']=df_binary['Binary Classes'].replace('High Level', 1)\n",
    "\n",
    "# Training and Test\n",
    "spt = StratifiedShuffleSplit(n_splits=1, test_size=0.2, random_state=42)\n",
    "for train_idx, test_idx in spt.split(df_binary, df_binary['Binary Classes']):\n",
    "    train_set = df_binary.loc[train_idx]\n",
    "    test_set  = df_binary.loc[test_idx]  \n",
    "\n",
    "#    \n",
    "X_train = train_set.drop(\"Binary Classes\", axis=1)\n",
    "y_train = train_set[\"Binary Classes\"].values\n",
    "#   \n",
    "scaler = StandardScaler()\n",
    "X_train_Std=scaler.fit_transform(X_train)\n",
    "    \n",
    "# Smaller Training\n",
    "# You need to divid your data to smaller training set and validation set for early stopping.\n",
    "Training_c=np.concatenate((X_train_Std,np.array(y_train).reshape(-1,1)),axis=1)\n",
    "Smaller_Training, Validation = train_test_split(Training_c, test_size=0.2, random_state=100)\n",
    "#\n",
    "Smaller_Training_Target=Smaller_Training[:,-1]\n",
    "Smaller_Training=Smaller_Training[:,:-1]\n",
    "#\n",
    "Validation_Target=Validation[:,-1]\n",
    "Validation=Validation[:,:-1]\n"
   ]
  },
  {
   "cell_type": "markdown",
   "metadata": {},
   "source": [
    "Lets now train a ANN for binary classification with 3 hidden layers; each layer has 50 neurons. Th following code implement early stopping to avoid overfitting."
   ]
  },
  {
   "cell_type": "code",
   "execution_count": 13,
   "metadata": {},
   "outputs": [
    {
     "name": "stdout",
     "output_type": "stream",
     "text": [
      "Epoch 1/1000\n",
      "16/16 [==============================] - 0s 10ms/step - loss: 0.5822 - accuracy: 0.7576 - val_loss: 0.4568 - val_accuracy: 0.7886\n",
      "Epoch 2/1000\n",
      "16/16 [==============================] - 0s 2ms/step - loss: 0.3800 - accuracy: 0.8187 - val_loss: 0.3279 - val_accuracy: 0.8293\n",
      "Epoch 3/1000\n",
      "16/16 [==============================] - 0s 2ms/step - loss: 0.2747 - accuracy: 0.8758 - val_loss: 0.2663 - val_accuracy: 0.8780\n",
      "Epoch 4/1000\n",
      "16/16 [==============================] - 0s 2ms/step - loss: 0.2281 - accuracy: 0.9022 - val_loss: 0.2334 - val_accuracy: 0.8943\n",
      "Epoch 5/1000\n",
      "16/16 [==============================] - 0s 2ms/step - loss: 0.2021 - accuracy: 0.9104 - val_loss: 0.2132 - val_accuracy: 0.8943\n",
      "Epoch 6/1000\n",
      "16/16 [==============================] - 0s 2ms/step - loss: 0.1897 - accuracy: 0.9145 - val_loss: 0.2023 - val_accuracy: 0.8943\n",
      "Epoch 7/1000\n",
      "16/16 [==============================] - 0s 2ms/step - loss: 0.1851 - accuracy: 0.9124 - val_loss: 0.2091 - val_accuracy: 0.9024\n",
      "Epoch 8/1000\n",
      "16/16 [==============================] - 0s 2ms/step - loss: 0.1731 - accuracy: 0.9185 - val_loss: 0.1928 - val_accuracy: 0.8943\n",
      "Epoch 9/1000\n",
      "16/16 [==============================] - 0s 2ms/step - loss: 0.1686 - accuracy: 0.9226 - val_loss: 0.1849 - val_accuracy: 0.9187\n",
      "Epoch 10/1000\n",
      "16/16 [==============================] - 0s 2ms/step - loss: 0.1549 - accuracy: 0.9328 - val_loss: 0.1845 - val_accuracy: 0.9024\n",
      "Epoch 11/1000\n",
      "16/16 [==============================] - 0s 2ms/step - loss: 0.1480 - accuracy: 0.9389 - val_loss: 0.1828 - val_accuracy: 0.9106\n",
      "Epoch 12/1000\n",
      "16/16 [==============================] - 0s 2ms/step - loss: 0.1444 - accuracy: 0.9246 - val_loss: 0.1801 - val_accuracy: 0.9024\n",
      "Epoch 13/1000\n",
      "16/16 [==============================] - 0s 2ms/step - loss: 0.1325 - accuracy: 0.9430 - val_loss: 0.1873 - val_accuracy: 0.9187\n",
      "Epoch 14/1000\n",
      "16/16 [==============================] - 0s 2ms/step - loss: 0.1255 - accuracy: 0.9409 - val_loss: 0.1787 - val_accuracy: 0.9106\n",
      "Epoch 15/1000\n",
      "16/16 [==============================] - 0s 2ms/step - loss: 0.1152 - accuracy: 0.9450 - val_loss: 0.1816 - val_accuracy: 0.9106\n",
      "Epoch 16/1000\n",
      "16/16 [==============================] - 0s 2ms/step - loss: 0.1037 - accuracy: 0.9511 - val_loss: 0.1774 - val_accuracy: 0.9024\n",
      "Epoch 17/1000\n",
      "16/16 [==============================] - 0s 2ms/step - loss: 0.1006 - accuracy: 0.9511 - val_loss: 0.2134 - val_accuracy: 0.9350\n",
      "Epoch 18/1000\n",
      "16/16 [==============================] - 0s 2ms/step - loss: 0.1055 - accuracy: 0.9532 - val_loss: 0.1943 - val_accuracy: 0.9106\n",
      "Epoch 19/1000\n",
      "16/16 [==============================] - 0s 2ms/step - loss: 0.0948 - accuracy: 0.9593 - val_loss: 0.2048 - val_accuracy: 0.9187\n"
     ]
    }
   ],
   "source": [
    "np.random.seed(42)\n",
    "tf.random.set_seed(42)\n",
    "\n",
    "keras.backend.clear_session() # Clear the previous model\n",
    "\n",
    "# create model\n",
    "model = keras.models.Sequential()\n",
    "\n",
    "# Input & Hidden Layer 1\n",
    "model.add(keras.layers.Dense(50, input_dim=np.array(Smaller_Training).shape[1], activation='relu'))\n",
    "\n",
    "# Hidden Layer 2\n",
    "model.add(keras.layers.Dense(50,activation='relu')) \n",
    "\n",
    "# Hidden Layer 3\n",
    "model.add(keras.layers.Dense(50,activation='relu')) \n",
    "\n",
    "# Output Layer\n",
    "model.add(keras.layers.Dense(1,activation='sigmoid')) \n",
    "# use activation=\"softmax\" for multicalss classification\n",
    "\n",
    "# Compile model\n",
    "model.compile(optimizer='adam',loss=\"binary_crossentropy\",metrics=['accuracy'])\n",
    "#'adam' is another optimization approach is more efficient than sgd. We will talk about it in more details.\n",
    "\n",
    "# Early stopping to avoid overfitting\n",
    "monitor= keras.callbacks.EarlyStopping(monitor='val_loss', min_delta=1e-3,patience=3, mode='auto')\n",
    "history=model.fit(Smaller_Training,Smaller_Training_Target,batch_size=32,validation_data=\n",
    "          (Validation,Validation_Target),callbacks=[monitor],verbose=1,epochs=1000)"
   ]
  },
  {
   "cell_type": "code",
   "execution_count": null,
   "metadata": {},
   "outputs": [],
   "source": []
  },
  {
   "cell_type": "code",
   "execution_count": 14,
   "metadata": {},
   "outputs": [],
   "source": [
    "import matplotlib.pyplot as plt\n",
    "\n",
    "def plot(history):\n",
    "\n",
    "    font = {'size'   : 10}\n",
    "    plt.rc('font', **font)\n",
    "    fig, ax=plt.subplots(figsize=(12, 4), dpi= 110, facecolor='w', edgecolor='k')\n",
    "    \n",
    "    ax1 = plt.subplot(1,2,1)\n",
    "    history_dict = history.history\n",
    "    loss_values = history_dict['loss']\n",
    "    val_loss_values = history_dict['val_loss']\n",
    "    \n",
    "    epochs = range(1, len(loss_values) + 1)\n",
    "    plt.plot(epochs, loss_values, 'bo', label='Training loss')          \n",
    "    plt.plot(epochs, val_loss_values, 'r', label='Validation loss',linewidth=2)    \n",
    "    plt.title('Training and Validation Loss',fontsize=14)\n",
    "    plt.xlabel('Epochs (Early Stopping)',fontsize=12)\n",
    "    plt.ylabel('Loss',fontsize=11)\n",
    "    plt.legend(fontsize='12')\n",
    "#    plt.ylim((0, 0.8))\n",
    "    \n",
    "    ax2 = plt.subplot(1,2,2)    \n",
    "    history_dict = history.history\n",
    "    loss_values = history_dict['accuracy']\n",
    "    val_loss_values = history_dict['val_accuracy']\n",
    "    epochs = range(1, len(loss_values) + 1)\n",
    "    ax2.plot(epochs, loss_values, 'ro', label='Training accuracy')          \n",
    "    ax2.plot(epochs, val_loss_values, 'b', label='Validation accuracy',linewidth=2)    \n",
    "    plt.title('Training and Validation Accuracy',fontsize=14)\n",
    "    plt.xlabel('Epochs (Early Stopping)',fontsize=12)\n",
    "    plt.ylabel('Accuracy',fontsize=12)\n",
    "    plt.legend(fontsize='12')\n",
    "#    plt.ylim((0.8, 0.99))\n",
    "    plt.show()    "
   ]
  },
  {
   "cell_type": "code",
   "execution_count": 15,
   "metadata": {},
   "outputs": [
    {
     "data": {
      "image/png": "[encoded data removed]",
      "text/plain": [
       "<Figure size 1320x440 with 2 Axes>"
      ]
     },
     "metadata": {},
     "output_type": "display_data"
    }
   ],
   "source": [
    "plot(history)"
   ]
  },
  {
   "cell_type": "code",
   "execution_count": null,
   "metadata": {},
   "outputs": [],
   "source": []
  },
  {
   "cell_type": "code",
   "execution_count": 16,
   "metadata": {},
   "outputs": [
    {
     "data": {
      "text/plain": [
       "[0, 0, 1, 0, 0]"
      ]
     },
     "execution_count": 16,
     "metadata": {},
     "output_type": "execute_result"
    }
   ],
   "source": [
    "# Prediction using trained ANN for entire training\n",
    "pred=model.predict(Smaller_Training[:5])\n",
    "pred=[1 if i >= 0.5 else 0 for i in pred]\n",
    "pred"
   ]
  },
  {
   "cell_type": "code",
   "execution_count": 17,
   "metadata": {},
   "outputs": [
    {
     "data": {
      "text/plain": [
       "array([0., 0., 1., 0., 0.])"
      ]
     },
     "execution_count": 17,
     "metadata": {},
     "output_type": "execute_result"
    }
   ],
   "source": [
    "# Actual values\n",
    "Smaller_Training_Target[:5]"
   ]
  },
  {
   "cell_type": "markdown",
   "metadata": {},
   "source": [
    "Lets apply the trained model on the for the entire training set:"
   ]
  },
  {
   "cell_type": "code",
   "execution_count": 18,
   "metadata": {},
   "outputs": [
    {
     "name": "stdout",
     "output_type": "stream",
     "text": [
      "0.9592833876221498\n"
     ]
    }
   ],
   "source": [
    "from sklearn.metrics import accuracy_score\n",
    "\n",
    "pred=model.predict(X_train_Std)\n",
    "pred=[1 if i >= 0.5 else 0 for i in pred]\n",
    "\n",
    "acr=accuracy_score(y_train, pred) \n",
    "print(acr)"
   ]
  },
  {
   "cell_type": "markdown",
   "metadata": {},
   "source": [
    "Lets apply the model on test set which is the data that model has never seen before."
   ]
  },
  {
   "cell_type": "code",
   "execution_count": 19,
   "metadata": {},
   "outputs": [],
   "source": [
    "X_test = test_set.drop(\"Binary Classes\", axis=1)\n",
    "y_test = test_set[\"Binary Classes\"].values\n",
    "#   \n",
    "X_test_Std=scaler.transform(X_test)"
   ]
  },
  {
   "cell_type": "code",
   "execution_count": 20,
   "metadata": {},
   "outputs": [
    {
     "name": "stdout",
     "output_type": "stream",
     "text": [
      "0.948051948051948\n"
     ]
    }
   ],
   "source": [
    "from sklearn.metrics import accuracy_score\n",
    "\n",
    "pred=model.predict(X_test_Std)\n",
    "pred=[1 if i >= 0.5 else 0 for i in pred]\n",
    "\n",
    "acr=accuracy_score(y_test, pred) \n",
    "print(acr)"
   ]
  },
  {
   "cell_type": "code",
   "execution_count": null,
   "metadata": {},
   "outputs": [],
   "source": []
  },
  {
   "cell_type": "markdown",
   "metadata": {},
   "source": [
    "## Multiclass Classification"
   ]
  },
  {
   "cell_type": "code",
   "execution_count": 21,
   "metadata": {},
   "outputs": [],
   "source": [
    "from sklearn.preprocessing import OrdinalEncoder\n",
    "\n",
    "df_multi=df.copy()\n",
    "df_multi.drop(['Binary Classes','Heating Load'], axis=1, inplace=True)\n",
    "#\n",
    "ordinal_encoder = OrdinalEncoder()\n",
    "Multi_Classes_encoded = ordinal_encoder.fit_transform(df_multi[['Multi-Classes']])\n",
    "df_multi['Multi-Classes']=Multi_Classes_encoded\n",
    "\n",
    "# Training and Test\n",
    "spt = StratifiedShuffleSplit(n_splits=1, test_size=0.2, random_state=42)\n",
    "for train_idx, test_idx in spt.split(df_multi, df_multi['Multi-Classes']):\n",
    "    train_set = df_multi.loc[train_idx]\n",
    "    test_set  = df_multi.loc[test_idx]  \n",
    "\n",
    "#    \n",
    "X_train = train_set.drop(\"Multi-Classes\", axis=1)\n",
    "y_train = train_set[\"Multi-Classes\"].values\n",
    "#   \n",
    "scaler = StandardScaler()\n",
    "X_train_Std=scaler.fit_transform(X_train)\n",
    "    \n",
    "# Smaller Training\n",
    "# You need to divid your data to smaller training set and validation set for early stopping.\n",
    "Training_c=np.concatenate((X_train_Std,np.array(y_train).reshape(-1,1)),axis=1)\n",
    "Smaller_Training, Validation = train_test_split(Training_c, test_size=0.2, random_state=100)\n",
    "#\n",
    "Smaller_Training_Target=Smaller_Training[:,-1]\n",
    "Smaller_Training=Smaller_Training[:,:-1]\n",
    "#\n",
    "Validation_Target=Validation[:,-1]\n",
    "Validation=Validation[:,:-1]"
   ]
  },
  {
   "cell_type": "code",
   "execution_count": null,
   "metadata": {},
   "outputs": [],
   "source": []
  },
  {
   "cell_type": "code",
   "execution_count": 22,
   "metadata": {},
   "outputs": [
    {
     "name": "stdout",
     "output_type": "stream",
     "text": [
      "Epoch 1/1000\n",
      "16/16 [==============================] - 0s 15ms/step - loss: 1.2768 - accuracy: 0.4623 - val_loss: 1.1251 - val_accuracy: 0.5528\n",
      "Epoch 2/1000\n",
      "16/16 [==============================] - 0s 2ms/step - loss: 0.9694 - accuracy: 0.6741 - val_loss: 0.9023 - val_accuracy: 0.6504\n",
      "Epoch 3/1000\n",
      "16/16 [==============================] - 0s 2ms/step - loss: 0.7677 - accuracy: 0.7393 - val_loss: 0.7371 - val_accuracy: 0.7154\n",
      "Epoch 4/1000\n",
      "16/16 [==============================] - 0s 2ms/step - loss: 0.6307 - accuracy: 0.7597 - val_loss: 0.5969 - val_accuracy: 0.7480\n",
      "Epoch 5/1000\n",
      "16/16 [==============================] - 0s 2ms/step - loss: 0.5354 - accuracy: 0.7841 - val_loss: 0.5278 - val_accuracy: 0.7480\n",
      "Epoch 6/1000\n",
      "16/16 [==============================] - 0s 2ms/step - loss: 0.4801 - accuracy: 0.7963 - val_loss: 0.4840 - val_accuracy: 0.7724\n",
      "Epoch 7/1000\n",
      "16/16 [==============================] - 0s 2ms/step - loss: 0.4529 - accuracy: 0.8045 - val_loss: 0.4595 - val_accuracy: 0.7724\n",
      "Epoch 8/1000\n",
      "16/16 [==============================] - 0s 2ms/step - loss: 0.4235 - accuracy: 0.8248 - val_loss: 0.4535 - val_accuracy: 0.7561\n",
      "Epoch 9/1000\n",
      "16/16 [==============================] - 0s 2ms/step - loss: 0.4083 - accuracy: 0.8167 - val_loss: 0.4330 - val_accuracy: 0.7480\n",
      "Epoch 10/1000\n",
      "16/16 [==============================] - 0s 2ms/step - loss: 0.3919 - accuracy: 0.8289 - val_loss: 0.4326 - val_accuracy: 0.7561\n",
      "Epoch 11/1000\n",
      "16/16 [==============================] - 0s 2ms/step - loss: 0.3798 - accuracy: 0.8167 - val_loss: 0.4119 - val_accuracy: 0.7642\n",
      "Epoch 12/1000\n",
      "16/16 [==============================] - 0s 2ms/step - loss: 0.3606 - accuracy: 0.8635 - val_loss: 0.3986 - val_accuracy: 0.7642\n",
      "Epoch 13/1000\n",
      "16/16 [==============================] - 0s 2ms/step - loss: 0.3448 - accuracy: 0.8371 - val_loss: 0.3921 - val_accuracy: 0.7724\n",
      "Epoch 14/1000\n",
      "16/16 [==============================] - 0s 2ms/step - loss: 0.3343 - accuracy: 0.8697 - val_loss: 0.3922 - val_accuracy: 0.7642\n",
      "Epoch 15/1000\n",
      "16/16 [==============================] - 0s 2ms/step - loss: 0.3136 - accuracy: 0.8554 - val_loss: 0.3728 - val_accuracy: 0.7724\n",
      "Epoch 16/1000\n",
      "16/16 [==============================] - 0s 2ms/step - loss: 0.3072 - accuracy: 0.8635 - val_loss: 0.3639 - val_accuracy: 0.7724\n",
      "Epoch 17/1000\n",
      "16/16 [==============================] - 0s 2ms/step - loss: 0.2942 - accuracy: 0.8635 - val_loss: 0.3418 - val_accuracy: 0.8049\n",
      "Epoch 18/1000\n",
      "16/16 [==============================] - 0s 2ms/step - loss: 0.2804 - accuracy: 0.8656 - val_loss: 0.3431 - val_accuracy: 0.7805\n",
      "Epoch 19/1000\n",
      "16/16 [==============================] - 0s 2ms/step - loss: 0.2649 - accuracy: 0.8798 - val_loss: 0.3206 - val_accuracy: 0.8049\n",
      "Epoch 20/1000\n",
      "16/16 [==============================] - 0s 2ms/step - loss: 0.2517 - accuracy: 0.8798 - val_loss: 0.2995 - val_accuracy: 0.8211\n",
      "Epoch 21/1000\n",
      "16/16 [==============================] - 0s 2ms/step - loss: 0.2427 - accuracy: 0.9002 - val_loss: 0.3180 - val_accuracy: 0.7886\n",
      "Epoch 22/1000\n",
      "16/16 [==============================] - 0s 2ms/step - loss: 0.2450 - accuracy: 0.8961 - val_loss: 0.2872 - val_accuracy: 0.8211\n",
      "Epoch 23/1000\n",
      "16/16 [==============================] - 0s 2ms/step - loss: 0.2337 - accuracy: 0.9043 - val_loss: 0.2789 - val_accuracy: 0.8293\n",
      "Epoch 24/1000\n",
      "16/16 [==============================] - 0s 2ms/step - loss: 0.2107 - accuracy: 0.9206 - val_loss: 0.2786 - val_accuracy: 0.8374\n",
      "Epoch 25/1000\n",
      "16/16 [==============================] - 0s 2ms/step - loss: 0.1970 - accuracy: 0.9145 - val_loss: 0.2488 - val_accuracy: 0.8455\n",
      "Epoch 26/1000\n",
      "16/16 [==============================] - 0s 2ms/step - loss: 0.1872 - accuracy: 0.9328 - val_loss: 0.2473 - val_accuracy: 0.8618\n",
      "Epoch 27/1000\n",
      "16/16 [==============================] - 0s 2ms/step - loss: 0.1805 - accuracy: 0.9409 - val_loss: 0.2354 - val_accuracy: 0.8862\n",
      "Epoch 28/1000\n",
      "16/16 [==============================] - 0s 2ms/step - loss: 0.1745 - accuracy: 0.9409 - val_loss: 0.2249 - val_accuracy: 0.8862\n",
      "Epoch 29/1000\n",
      "16/16 [==============================] - 0s 2ms/step - loss: 0.1622 - accuracy: 0.9470 - val_loss: 0.2130 - val_accuracy: 0.8943\n",
      "Epoch 30/1000\n",
      "16/16 [==============================] - 0s 2ms/step - loss: 0.1530 - accuracy: 0.9470 - val_loss: 0.2011 - val_accuracy: 0.9024\n",
      "Epoch 31/1000\n",
      "16/16 [==============================] - 0s 2ms/step - loss: 0.1472 - accuracy: 0.9552 - val_loss: 0.1976 - val_accuracy: 0.9024\n",
      "Epoch 32/1000\n",
      "16/16 [==============================] - 0s 2ms/step - loss: 0.1415 - accuracy: 0.9593 - val_loss: 0.1829 - val_accuracy: 0.9187\n",
      "Epoch 33/1000\n",
      "16/16 [==============================] - 0s 2ms/step - loss: 0.1345 - accuracy: 0.9572 - val_loss: 0.1894 - val_accuracy: 0.9106\n",
      "Epoch 34/1000\n",
      "16/16 [==============================] - 0s 2ms/step - loss: 0.1290 - accuracy: 0.9654 - val_loss: 0.1676 - val_accuracy: 0.9268\n",
      "Epoch 35/1000\n",
      "16/16 [==============================] - 0s 2ms/step - loss: 0.1345 - accuracy: 0.9511 - val_loss: 0.1584 - val_accuracy: 0.9350\n",
      "Epoch 36/1000\n",
      "16/16 [==============================] - 0s 2ms/step - loss: 0.1185 - accuracy: 0.9633 - val_loss: 0.1518 - val_accuracy: 0.9350\n",
      "Epoch 37/1000\n",
      "16/16 [==============================] - 0s 2ms/step - loss: 0.1124 - accuracy: 0.9654 - val_loss: 0.1680 - val_accuracy: 0.9431\n",
      "Epoch 38/1000\n",
      "16/16 [==============================] - 0s 2ms/step - loss: 0.1066 - accuracy: 0.9674 - val_loss: 0.1424 - val_accuracy: 0.9675\n",
      "Epoch 39/1000\n",
      "16/16 [==============================] - 0s 2ms/step - loss: 0.1000 - accuracy: 0.9654 - val_loss: 0.1387 - val_accuracy: 0.9512\n",
      "Epoch 40/1000\n",
      "16/16 [==============================] - 0s 2ms/step - loss: 0.1010 - accuracy: 0.9654 - val_loss: 0.1344 - val_accuracy: 0.9512\n",
      "Epoch 41/1000\n",
      "16/16 [==============================] - 0s 2ms/step - loss: 0.0984 - accuracy: 0.9735 - val_loss: 0.1652 - val_accuracy: 0.9512\n",
      "Epoch 42/1000\n",
      "16/16 [==============================] - 0s 2ms/step - loss: 0.0963 - accuracy: 0.9674 - val_loss: 0.1236 - val_accuracy: 0.9593\n",
      "Epoch 43/1000\n",
      "16/16 [==============================] - 0s 2ms/step - loss: 0.0880 - accuracy: 0.9735 - val_loss: 0.1179 - val_accuracy: 0.9675\n",
      "Epoch 44/1000\n",
      "16/16 [==============================] - 0s 2ms/step - loss: 0.0811 - accuracy: 0.9776 - val_loss: 0.1154 - val_accuracy: 0.9512\n",
      "Epoch 45/1000\n",
      "16/16 [==============================] - 0s 2ms/step - loss: 0.0784 - accuracy: 0.9756 - val_loss: 0.1194 - val_accuracy: 0.9593\n",
      "Epoch 46/1000\n",
      "16/16 [==============================] - 0s 2ms/step - loss: 0.0766 - accuracy: 0.9735 - val_loss: 0.1036 - val_accuracy: 0.9675\n",
      "Epoch 47/1000\n",
      "16/16 [==============================] - 0s 2ms/step - loss: 0.0751 - accuracy: 0.9776 - val_loss: 0.1098 - val_accuracy: 0.9675\n",
      "Epoch 48/1000\n",
      "16/16 [==============================] - ETA: 0s - loss: 0.0284 - accuracy: 1.00 - 0s 2ms/step - loss: 0.0725 - accuracy: 0.9776 - val_loss: 0.1112 - val_accuracy: 0.9593\n",
      "Epoch 49/1000\n",
      "16/16 [==============================] - 0s 2ms/step - loss: 0.0693 - accuracy: 0.9796 - val_loss: 0.0996 - val_accuracy: 0.9675\n",
      "Epoch 50/1000\n",
      "16/16 [==============================] - 0s 2ms/step - loss: 0.0692 - accuracy: 0.9817 - val_loss: 0.0977 - val_accuracy: 0.9675\n",
      "Epoch 51/1000\n",
      "16/16 [==============================] - 0s 2ms/step - loss: 0.0704 - accuracy: 0.9735 - val_loss: 0.0891 - val_accuracy: 0.9675\n",
      "Epoch 52/1000\n",
      "16/16 [==============================] - 0s 2ms/step - loss: 0.0677 - accuracy: 0.9796 - val_loss: 0.0996 - val_accuracy: 0.9593\n",
      "Epoch 53/1000\n",
      "16/16 [==============================] - 0s 2ms/step - loss: 0.0599 - accuracy: 0.9776 - val_loss: 0.0915 - val_accuracy: 0.9593\n",
      "Epoch 54/1000\n",
      "16/16 [==============================] - 0s 2ms/step - loss: 0.0592 - accuracy: 0.9776 - val_loss: 0.0837 - val_accuracy: 0.9756\n",
      "Epoch 55/1000\n",
      "16/16 [==============================] - 0s 2ms/step - loss: 0.0612 - accuracy: 0.9817 - val_loss: 0.1052 - val_accuracy: 0.9512\n",
      "Epoch 56/1000\n",
      "16/16 [==============================] - 0s 2ms/step - loss: 0.0580 - accuracy: 0.9817 - val_loss: 0.0938 - val_accuracy: 0.9512\n",
      "Epoch 57/1000\n",
      "16/16 [==============================] - 0s 2ms/step - loss: 0.0736 - accuracy: 0.9715 - val_loss: 0.0774 - val_accuracy: 0.9675\n",
      "Epoch 58/1000\n"
     ]
    },
    {
     "name": "stdout",
     "output_type": "stream",
     "text": [
      "16/16 [==============================] - 0s 2ms/step - loss: 0.0572 - accuracy: 0.9796 - val_loss: 0.0807 - val_accuracy: 0.9593\n",
      "Epoch 59/1000\n",
      "16/16 [==============================] - 0s 2ms/step - loss: 0.0540 - accuracy: 0.9817 - val_loss: 0.0834 - val_accuracy: 0.9593\n",
      "Epoch 60/1000\n",
      "16/16 [==============================] - 0s 2ms/step - loss: 0.0546 - accuracy: 0.9776 - val_loss: 0.0733 - val_accuracy: 0.9675\n",
      "Epoch 61/1000\n",
      "16/16 [==============================] - 0s 2ms/step - loss: 0.0503 - accuracy: 0.9817 - val_loss: 0.0752 - val_accuracy: 0.9756\n",
      "Epoch 62/1000\n",
      "16/16 [==============================] - 0s 2ms/step - loss: 0.0597 - accuracy: 0.9776 - val_loss: 0.0897 - val_accuracy: 0.9593\n",
      "Epoch 63/1000\n",
      "16/16 [==============================] - 0s 2ms/step - loss: 0.0556 - accuracy: 0.9776 - val_loss: 0.1302 - val_accuracy: 0.9512\n"
     ]
    }
   ],
   "source": [
    "np.random.seed(42)\n",
    "tf.random.set_seed(42)\n",
    "\n",
    "keras.backend.clear_session() # Clear the previous model\n",
    "\n",
    "# create model\n",
    "model = keras.models.Sequential()\n",
    "\n",
    "# Input and Hidden Layer 1\n",
    "model.add(keras.layers.Dense(50, input_dim=np.array(Smaller_Training).shape[1], activation='relu'))\n",
    "\n",
    "# Hidden Layer 2\n",
    "model.add(keras.layers.Dense(50,activation='relu')) \n",
    "\n",
    "# Hidden Layer 3\n",
    "model.add(keras.layers.Dense(50,activation='relu')) \n",
    "\n",
    "# Output Layer\n",
    "model.add(keras.layers.Dense(4,activation='softmax')) \n",
    "# we have 4 classes\n",
    "\n",
    "# Compile model\n",
    "model.compile(optimizer='adam',loss=\"sparse_categorical_crossentropy\",metrics=['accuracy'])\n",
    "#'adam' is another optimization approach is more efficient than sgd. We will talk about it in more details.\n",
    "\n",
    "# Early stopping to avoid overfitting\n",
    "monitor= keras.callbacks.EarlyStopping(monitor='val_loss', min_delta=1e-3,patience=3, mode='auto')\n",
    "history=model.fit(Smaller_Training,Smaller_Training_Target,batch_size=32,validation_data=\n",
    "          (Validation,Validation_Target),callbacks=[monitor],verbose=1,epochs=1000)"
   ]
  },
  {
   "cell_type": "code",
   "execution_count": 23,
   "metadata": {},
   "outputs": [
    {
     "data": {
      "image/png": "[encoded data removed]",
      "text/plain": [
       "<Figure size 1320x440 with 2 Axes>"
      ]
     },
     "metadata": {},
     "output_type": "display_data"
    }
   ],
   "source": [
    "plot(history)"
   ]
  },
  {
   "cell_type": "code",
   "execution_count": null,
   "metadata": {},
   "outputs": [],
   "source": []
  },
  {
   "cell_type": "code",
   "execution_count": 24,
   "metadata": {},
   "outputs": [
    {
     "data": {
      "text/plain": [
       "[0, 0, 3, 2, 2]"
      ]
     },
     "execution_count": 24,
     "metadata": {},
     "output_type": "execute_result"
    }
   ],
   "source": [
    "# Prediction using trained ANN\n",
    "pred=model.predict(Smaller_Training[:5])\n",
    "pred=[np.argmax(prob) for prob in pred]\n",
    "pred"
   ]
  },
  {
   "cell_type": "code",
   "execution_count": 25,
   "metadata": {},
   "outputs": [
    {
     "data": {
      "text/plain": [
       "array([0., 0., 3., 2., 2.])"
      ]
     },
     "execution_count": 25,
     "metadata": {},
     "output_type": "execute_result"
    }
   ],
   "source": [
    "# Actual values\n",
    "Smaller_Training_Target[:5]"
   ]
  },
  {
   "cell_type": "markdown",
   "metadata": {},
   "source": [
    "Apply the trained model for the entire training set:"
   ]
  },
  {
   "cell_type": "code",
   "execution_count": 26,
   "metadata": {},
   "outputs": [
    {
     "name": "stdout",
     "output_type": "stream",
     "text": [
      "0.9739413680781759\n"
     ]
    }
   ],
   "source": [
    "pred=model.predict(X_train_Std)\n",
    "pred=[np.argmax(prob) for prob in pred]\n",
    "\n",
    "acr=accuracy_score(y_train, pred) \n",
    "print(acr)"
   ]
  },
  {
   "cell_type": "markdown",
   "metadata": {},
   "source": [
    "Lets apply the model on test set which is the data that model has never seen before."
   ]
  },
  {
   "cell_type": "code",
   "execution_count": 27,
   "metadata": {},
   "outputs": [],
   "source": [
    "X_test = test_set.drop(\"Multi-Classes\", axis=1)\n",
    "y_test = test_set[\"Multi-Classes\"].values\n",
    "#   \n",
    "X_test_Std=scaler.transform(X_test)"
   ]
  },
  {
   "cell_type": "code",
   "execution_count": 28,
   "metadata": {},
   "outputs": [
    {
     "name": "stdout",
     "output_type": "stream",
     "text": [
      "0.9090909090909091\n"
     ]
    }
   ],
   "source": [
    "from sklearn.metrics import accuracy_score\n",
    "\n",
    "pred=model.predict(X_test_Std)\n",
    "pred=[np.argmax(prob) for prob in pred]\n",
    "\n",
    "acr=accuracy_score(y_test, pred) \n",
    "print(acr)"
   ]
  },
  {
   "cell_type": "markdown",
   "metadata": {},
   "source": [
    "## Regression "
   ]
  },
  {
   "cell_type": "code",
   "execution_count": 29,
   "metadata": {},
   "outputs": [],
   "source": [
    "df_reg=df.copy()\n",
    "df_reg.drop(['Binary Classes','Multi-Classes'], axis=1, inplace=True)\n",
    "\n",
    "# Training and Test\n",
    "train_set, test_set = train_test_split(df_reg, test_size=0.2, random_state=42)\n",
    "\n",
    "#    \n",
    "X_train = train_set.drop(\"Heating Load\", axis=1)\n",
    "y_train = train_set[\"Heating Load\"].values\n",
    "#   \n",
    "scaler = StandardScaler()\n",
    "X_train_Std=scaler.fit_transform(X_train)\n",
    "    \n",
    "# Smaller Training\n",
    "# You need to divid your data to smaller training set and validation set for early stopping.\n",
    "Training_c=np.concatenate((X_train_Std,np.array(y_train).reshape(-1,1)),axis=1)\n",
    "Smaller_Training, Validation = train_test_split(Training_c, test_size=0.2, random_state=100)\n",
    "#\n",
    "Smaller_Training_Target=Smaller_Training[:,-1]\n",
    "Smaller_Training=Smaller_Training[:,:-1]\n",
    "#\n",
    "Validation_Target=Validation[:,-1]\n",
    "Validation=Validation[:,:-1]"
   ]
  },
  {
   "cell_type": "code",
   "execution_count": null,
   "metadata": {},
   "outputs": [],
   "source": []
  },
  {
   "cell_type": "code",
   "execution_count": 30,
   "metadata": {},
   "outputs": [
    {
     "name": "stdout",
     "output_type": "stream",
     "text": [
      "Epoch 1/1000\n",
      "16/16 [==============================] - 0s 7ms/step - loss: 556.5300 - val_loss: 617.5810\n",
      "Epoch 2/1000\n",
      "16/16 [==============================] - 0s 2ms/step - loss: 487.8694 - val_loss: 495.5008\n",
      "Epoch 3/1000\n",
      "16/16 [==============================] - 0s 2ms/step - loss: 348.5084 - val_loss: 263.0908\n",
      "Epoch 4/1000\n",
      "16/16 [==============================] - 0s 2ms/step - loss: 143.5860 - val_loss: 60.7297\n",
      "Epoch 5/1000\n",
      "16/16 [==============================] - 0s 2ms/step - loss: 63.8592 - val_loss: 43.6602\n",
      "Epoch 6/1000\n",
      "16/16 [==============================] - 0s 2ms/step - loss: 39.3157 - val_loss: 27.5265\n",
      "Epoch 7/1000\n",
      "16/16 [==============================] - 0s 2ms/step - loss: 31.4174 - val_loss: 26.2661\n",
      "Epoch 8/1000\n",
      "16/16 [==============================] - 0s 2ms/step - loss: 26.9751 - val_loss: 22.7469\n",
      "Epoch 9/1000\n",
      "16/16 [==============================] - 0s 2ms/step - loss: 24.2055 - val_loss: 22.3535\n",
      "Epoch 10/1000\n",
      "16/16 [==============================] - 0s 2ms/step - loss: 22.3141 - val_loss: 20.2912\n",
      "Epoch 11/1000\n",
      "16/16 [==============================] - 0s 2ms/step - loss: 20.5691 - val_loss: 18.4587\n",
      "Epoch 12/1000\n",
      "16/16 [==============================] - 0s 2ms/step - loss: 19.2199 - val_loss: 17.5179\n",
      "Epoch 13/1000\n",
      "16/16 [==============================] - 0s 2ms/step - loss: 18.0143 - val_loss: 16.3742\n",
      "Epoch 14/1000\n",
      "16/16 [==============================] - 0s 2ms/step - loss: 16.9375 - val_loss: 15.7136\n",
      "Epoch 15/1000\n",
      "16/16 [==============================] - 0s 2ms/step - loss: 16.0073 - val_loss: 14.2242\n",
      "Epoch 16/1000\n",
      "16/16 [==============================] - 0s 2ms/step - loss: 15.0520 - val_loss: 13.4981\n",
      "Epoch 17/1000\n",
      "16/16 [==============================] - 0s 2ms/step - loss: 14.0176 - val_loss: 12.2931\n",
      "Epoch 18/1000\n",
      "16/16 [==============================] - 0s 2ms/step - loss: 13.3079 - val_loss: 12.1714\n",
      "Epoch 19/1000\n",
      "16/16 [==============================] - 0s 2ms/step - loss: 12.9443 - val_loss: 10.5775\n",
      "Epoch 20/1000\n",
      "16/16 [==============================] - 0s 2ms/step - loss: 11.9876 - val_loss: 10.8459\n",
      "Epoch 21/1000\n",
      "16/16 [==============================] - 0s 2ms/step - loss: 11.4372 - val_loss: 9.4545\n",
      "Epoch 22/1000\n",
      "16/16 [==============================] - 0s 2ms/step - loss: 11.0544 - val_loss: 10.1898\n",
      "Epoch 23/1000\n",
      "16/16 [==============================] - 0s 2ms/step - loss: 10.3113 - val_loss: 8.7403\n",
      "Epoch 24/1000\n",
      "16/16 [==============================] - 0s 2ms/step - loss: 9.9459 - val_loss: 9.4022\n",
      "Epoch 25/1000\n",
      "16/16 [==============================] - 0s 2ms/step - loss: 9.6834 - val_loss: 8.4257\n",
      "Epoch 26/1000\n",
      "16/16 [==============================] - 0s 2ms/step - loss: 9.3336 - val_loss: 8.2730\n",
      "Epoch 27/1000\n",
      "16/16 [==============================] - 0s 2ms/step - loss: 9.0927 - val_loss: 8.1060\n",
      "Epoch 28/1000\n",
      "16/16 [==============================] - 0s 2ms/step - loss: 8.8698 - val_loss: 8.1399\n",
      "Epoch 29/1000\n",
      "16/16 [==============================] - 0s 2ms/step - loss: 8.7586 - val_loss: 7.7792\n",
      "Epoch 30/1000\n",
      "16/16 [==============================] - 0s 2ms/step - loss: 8.5881 - val_loss: 7.7569\n",
      "Epoch 31/1000\n",
      "16/16 [==============================] - 0s 2ms/step - loss: 8.5016 - val_loss: 7.9986\n",
      "Epoch 32/1000\n",
      "16/16 [==============================] - 0s 2ms/step - loss: 8.3818 - val_loss: 7.5497\n",
      "Epoch 33/1000\n",
      "16/16 [==============================] - 0s 2ms/step - loss: 8.1607 - val_loss: 7.3497\n",
      "Epoch 34/1000\n",
      "16/16 [==============================] - 0s 2ms/step - loss: 8.2662 - val_loss: 7.4865\n",
      "Epoch 35/1000\n",
      "16/16 [==============================] - 0s 2ms/step - loss: 7.8319 - val_loss: 8.2898\n",
      "Epoch 36/1000\n",
      "16/16 [==============================] - 0s 2ms/step - loss: 8.1632 - val_loss: 7.2159\n",
      "Epoch 37/1000\n",
      "16/16 [==============================] - 0s 2ms/step - loss: 8.0737 - val_loss: 7.9438\n",
      "Epoch 38/1000\n",
      "16/16 [==============================] - 0s 2ms/step - loss: 7.8347 - val_loss: 7.0586\n",
      "Epoch 39/1000\n",
      "16/16 [==============================] - 0s 2ms/step - loss: 7.7487 - val_loss: 7.2865\n",
      "Epoch 40/1000\n",
      "16/16 [==============================] - 0s 2ms/step - loss: 7.6372 - val_loss: 6.9797\n",
      "Epoch 41/1000\n",
      "16/16 [==============================] - 0s 2ms/step - loss: 7.6165 - val_loss: 6.7889\n",
      "Epoch 42/1000\n",
      "16/16 [==============================] - 0s 2ms/step - loss: 7.5040 - val_loss: 6.9834\n",
      "Epoch 43/1000\n",
      "16/16 [==============================] - 0s 2ms/step - loss: 7.9819 - val_loss: 7.2834\n",
      "Epoch 44/1000\n",
      "16/16 [==============================] - 0s 2ms/step - loss: 7.4035 - val_loss: 6.9784\n"
     ]
    }
   ],
   "source": [
    "np.random.seed(42)\n",
    "tf.random.set_seed(42)\n",
    "\n",
    "keras.backend.clear_session() # Clear the previous model\n",
    "\n",
    "# create model\n",
    "model = keras.models.Sequential()\n",
    "\n",
    "# Input and Hidden Layer 1\n",
    "model.add(keras.layers.Dense(50, input_dim=np.array(Smaller_Training).shape[1], activation='relu'))\n",
    "\n",
    "# Hidden Layer 2\n",
    "model.add(keras.layers.Dense(50,activation='relu')) \n",
    "\n",
    "# Hidden Layer 3\n",
    "model.add(keras.layers.Dense(50,activation='relu')) \n",
    "\n",
    "# Output Layer\n",
    "model.add(keras.layers.Dense(1)) \n",
    "\n",
    "# Compile model\n",
    "model.compile(optimizer='adam',loss=\"mse\")\n",
    "# 'adam' is another optimization approach is more efficient than sgd. We will talk about it in more details.\n",
    "# 'mse' is mean square error which is applied for regression\n",
    "\n",
    "# Early stopping to avoid overfitting\n",
    "monitor= keras.callbacks.EarlyStopping(monitor='val_loss', min_delta=1e-3,patience=3, mode='auto')\n",
    "history=model.fit(Smaller_Training,Smaller_Training_Target,batch_size=32,validation_data=\n",
    "          (Validation,Validation_Target),callbacks=[monitor],verbose=1,epochs=1000)"
   ]
  },
  {
   "cell_type": "code",
   "execution_count": null,
   "metadata": {},
   "outputs": [],
   "source": []
  },
  {
   "cell_type": "code",
   "execution_count": 31,
   "metadata": {},
   "outputs": [],
   "source": [
    "def plot_NN(model,history,x_train,y_train):\n",
    "    \"\"\" Plot training loss versus validation loss and \n",
    "    training accuracy versus validation accuracy\"\"\"\n",
    "    \n",
    "    font = {'size'   : 7.5}\n",
    "    plt.rc('font', **font)\n",
    "    fig, ax=plt.subplots(figsize=(7, 5), dpi= 200, facecolor='w', edgecolor='k')\n",
    "    \n",
    "    ax1 = plt.subplot(2,2,1)    \n",
    "    history_dict = history.history\n",
    "    loss_values = history_dict['loss']\n",
    "    val_loss_values = history_dict['val_loss']\n",
    "    epochs = range(1, len(loss_values) + 1)\n",
    "    ax1.plot(epochs, loss_values, 'bo',markersize=4, label='Training loss')          \n",
    "    ax1.plot(epochs, val_loss_values, 'r-', label='Validation loss')    \n",
    "    plt.title('Training and validation loss',fontsize=11)\n",
    "    plt.xlabel('Epochs (Early Stopping)',fontsize=9)\n",
    "    plt.ylabel('Loss',fontsize=10)\n",
    "    plt.legend(fontsize='8.5')\n",
    "    plt.ylim((0, 100))\n",
    "    \n",
    "    ax2 = plt.subplot(2,2,2)\n",
    "    pred=model.predict(x_train)\n",
    "    t = pd.DataFrame({'pred': pred.flatten(), 'y': y_train.flatten()})\n",
    "    t.sort_values(by=['y'], inplace=True)    \n",
    "\n",
    "    epochs = range(1, len(loss_values) + 1)        \n",
    "    ax2.plot(t['pred'].tolist(), 'g', label='Prediction')    \n",
    "    ax2.plot(t['y'].tolist(), 'm--o',markersize=2, label='Expected')      \n",
    "    plt.title('Prediction vs Expected for Training',fontsize=11)\n",
    "    plt.xlabel('Data',fontsize=9)\n",
    "    plt.ylabel('Output',fontsize=10)\n",
    "    plt.legend(fontsize='8.5')    \n",
    "    fig.tight_layout(w_pad=1.42)\n",
    "    plt.show()"
   ]
  },
  {
   "cell_type": "code",
   "execution_count": 32,
   "metadata": {},
   "outputs": [
    {
     "data": {
      "image/png": "[encoded data removed]",
      "text/plain": [
       "<Figure size 1400x1000 with 2 Axes>"
      ]
     },
     "metadata": {},
     "output_type": "display_data"
    }
   ],
   "source": [
    "plot_NN(model,history,Smaller_Training,Smaller_Training_Target)"
   ]
  },
  {
   "cell_type": "markdown",
   "metadata": {},
   "source": [
    "Lets get RMSE for training set:"
   ]
  },
  {
   "cell_type": "code",
   "execution_count": 33,
   "metadata": {},
   "outputs": [
    {
     "data": {
      "text/plain": [
       "2.676985308315499"
      ]
     },
     "execution_count": 33,
     "metadata": {},
     "output_type": "execute_result"
    }
   ],
   "source": [
    "from sklearn.metrics import mean_squared_error\n",
    "\n",
    "pred=model.predict(X_train_Std)\n",
    "mse = mean_squared_error(y_train, pred)\n",
    "rmse= np.sqrt(mse)\n",
    "rmse"
   ]
  },
  {
   "cell_type": "markdown",
   "metadata": {},
   "source": [
    "Get RMSE for test set:"
   ]
  },
  {
   "cell_type": "code",
   "execution_count": 34,
   "metadata": {},
   "outputs": [],
   "source": [
    "X_test = test_set.drop(\"Heating Load\", axis=1)\n",
    "y_test = test_set[\"Heating Load\"].values\n",
    "#   \n",
    "X_test_Std=scaler.transform(X_test)"
   ]
  },
  {
   "cell_type": "code",
   "execution_count": 35,
   "metadata": {},
   "outputs": [
    {
     "data": {
      "text/plain": [
       "2.9973878342651545"
      ]
     },
     "execution_count": 35,
     "metadata": {},
     "output_type": "execute_result"
    }
   ],
   "source": [
    "pred=model.predict(X_test_Std)\n",
    "mse = mean_squared_error(y_test, pred)\n",
    "rmse= np.sqrt(mse)\n",
    "rmse"
   ]
  },
  {
   "cell_type": "markdown",
   "metadata": {},
   "source": [
    "You should always expect less performance on test set since the model has not seen this data set before."
   ]
  },
  {
   "cell_type": "code",
   "execution_count": null,
   "metadata": {},
   "outputs": [],
   "source": []
  },
  {
   "cell_type": "markdown",
   "metadata": {},
   "source": [
    "# Fine-tune Neural Network Hyperparameters"
   ]
  },
  {
   "cell_type": "markdown",
   "metadata": {},
   "source": [
    "## Classification: GridSearchCV "
   ]
  },
  {
   "cell_type": "markdown",
   "metadata": {},
   "source": [
    "You can use Scikit-Learn to fune-tune ANN's hyperparameters. You need a function for ANN to fine-tune hyperparameters. The following code is ANN with 3 hidden layers. You can adjust any hyperparameter."
   ]
  },
  {
   "cell_type": "code",
   "execution_count": 36,
   "metadata": {},
   "outputs": [],
   "source": [
    "def ANN (input_dim,neurons=50,loss=\"binary_crossentropy\",activation=\"relu\",Nout=1,\n",
    "             metrics=['accuracy'],activation_out='sigmoid'):\n",
    "    \"\"\" Function to run Neural Network for different hyperparameters\"\"\"\n",
    "    np.random.seed(42)\n",
    "    tf.random.set_seed(42)\n",
    "\n",
    "    # create model\n",
    "    model = keras.models.Sequential()\n",
    "    \n",
    "    # Input and Hidden Layer 1\n",
    "    model.add(keras.layers.Dense(neurons,input_dim=input_dim, activation=activation))\n",
    "    \n",
    "    # Input Layer 2\n",
    "    model.add(keras.layers.Dense(neurons,activation=activation)) \n",
    "    \n",
    "    # Input Layer 3\n",
    "    model.add(keras.layers.Dense(neurons,activation=activation)) \n",
    "    \n",
    "    # Output Layer \n",
    "    model.add(keras.layers.Dense(Nout,activation=activation_out)) \n",
    "    \n",
    "    # Compile model\n",
    "    model.compile(optimizer='adam',loss=loss,metrics=metrics)\n",
    "    return model"
   ]
  },
  {
   "cell_type": "markdown",
   "metadata": {},
   "source": [
    "Then you can fine-tune number of neurons with the following code for the binary classification"
   ]
  },
  {
   "cell_type": "code",
   "execution_count": 37,
   "metadata": {},
   "outputs": [],
   "source": [
    "# Training and Test\n",
    "spt = StratifiedShuffleSplit(n_splits=1, test_size=0.2, random_state=42)\n",
    "for train_idx, test_idx in spt.split(df_binary, df_binary['Binary Classes']):\n",
    "    train_set = df_binary.loc[train_idx]\n",
    "    test_set  = df_binary.loc[test_idx]  \n",
    "\n",
    "#    \n",
    "X_train = train_set.drop(\"Binary Classes\", axis=1)\n",
    "y_train = train_set[\"Binary Classes\"].values\n",
    "#   \n",
    "scaler = StandardScaler()\n",
    "X_train_Std=scaler.fit_transform(X_train)\n",
    "    \n",
    "# Smaller Training\n",
    "# You need to divid your data to smaller training set and validation set for early stopping.\n",
    "Training_c=np.concatenate((X_train_Std,np.array(y_train).reshape(-1,1)),axis=1)\n",
    "Smaller_Training, Validation = train_test_split(Training_c, test_size=0.2, random_state=100)\n",
    "#\n",
    "Smaller_Training_Target=Smaller_Training[:,-1]\n",
    "Smaller_Training=Smaller_Training[:,:-1]\n",
    "#\n",
    "Validation_Target=Validation[:,-1]\n",
    "Validation=Validation[:,:-1]"
   ]
  },
  {
   "cell_type": "markdown",
   "metadata": {},
   "source": [
    "The following code fine-tune only number of neuron, but you can simply apply for all parameters. The only issue is the process can be extremely computationally expensive and large number of parameters to adjust."
   ]
  },
  {
   "cell_type": "code",
   "execution_count": 38,
   "metadata": {},
   "outputs": [
    {
     "name": "stdout",
     "output_type": "stream",
     "text": [
      "8/8 [==============================] - 0s 998us/step - loss: 0.2535 - accuracy: 0.9065\n",
      "8/8 [==============================] - 0s 873us/step - loss: 0.1597 - accuracy: 0.9061\n",
      "8/8 [==============================] - 0s 873us/step - loss: 0.2367 - accuracy: 0.9065\n",
      "8/8 [==============================] - 0s 997us/step - loss: 0.1443 - accuracy: 0.9102\n",
      "8/8 [==============================] - 0s 997us/step - loss: 0.2278 - accuracy: 0.9106\n",
      "8/8 [==============================] - 0s 999us/step - loss: 0.1179 - accuracy: 0.9306\n"
     ]
    }
   ],
   "source": [
    "from keras.wrappers.scikit_learn import KerasClassifier\n",
    "from sklearn.model_selection import GridSearchCV\n",
    "\n",
    "\n",
    "# define the grid search parameters\n",
    "param_grid = {'neurons' : [50,100,150]}\n",
    "\n",
    "# Run Keras Classifier \n",
    "model = KerasClassifier(build_fn=ANN,input_dim=Smaller_Training.shape[1])\n",
    "\n",
    "# Apply Scikit Learn GridSearchCV\n",
    "grid = GridSearchCV(estimator=model,param_grid=param_grid, cv=2)\n",
    "\n",
    "# Early stopping to avoid overfitting\n",
    "monitor= keras.callbacks.EarlyStopping(min_delta=1e-3,patience=5, verbose=0)\n",
    "grid_result = grid.fit(Smaller_Training,Smaller_Training_Target,batch_size=32,validation_data=\n",
    "                       (Validation,Validation_Target),callbacks=[monitor],\n",
    "                   verbose=0,epochs=1000)"
   ]
  },
  {
   "cell_type": "code",
   "execution_count": 39,
   "metadata": {},
   "outputs": [
    {
     "name": "stdout",
     "output_type": "stream",
     "text": [
      "Best parameters: 0.920591 using {'neurons': 150}\n"
     ]
    }
   ],
   "source": [
    "# Best result\n",
    "print(\"Best parameters: %f using %s\" % (grid_result.best_score_, grid_result.best_params_))"
   ]
  },
  {
   "cell_type": "code",
   "execution_count": null,
   "metadata": {},
   "outputs": [],
   "source": []
  },
  {
   "cell_type": "markdown",
   "metadata": {},
   "source": [
    "You can fune-tune any ANN hyperparameter. Then call the function used fine-tuned neurons."
   ]
  },
  {
   "cell_type": "code",
   "execution_count": 40,
   "metadata": {},
   "outputs": [
    {
     "name": "stdout",
     "output_type": "stream",
     "text": [
      "Epoch 1/1000\n",
      "16/16 [==============================] - 0s 15ms/step - loss: 0.5053 - accuracy: 0.7210 - val_loss: 0.3199 - val_accuracy: 0.8049\n",
      "Epoch 2/1000\n",
      "16/16 [==============================] - 0s 2ms/step - loss: 0.2507 - accuracy: 0.8758 - val_loss: 0.2273 - val_accuracy: 0.9106\n",
      "Epoch 3/1000\n",
      "16/16 [==============================] - 0s 2ms/step - loss: 0.1992 - accuracy: 0.9084 - val_loss: 0.2093 - val_accuracy: 0.9106\n",
      "Epoch 4/1000\n",
      "16/16 [==============================] - 0s 2ms/step - loss: 0.1765 - accuracy: 0.9165 - val_loss: 0.2093 - val_accuracy: 0.8862\n",
      "Epoch 5/1000\n",
      "16/16 [==============================] - 0s 2ms/step - loss: 0.1533 - accuracy: 0.9287 - val_loss: 0.2119 - val_accuracy: 0.9268\n",
      "Epoch 6/1000\n",
      "16/16 [==============================] - 0s 2ms/step - loss: 0.1375 - accuracy: 0.9267 - val_loss: 0.1941 - val_accuracy: 0.9106\n",
      "Epoch 7/1000\n",
      "16/16 [==============================] - ETA: 0s - loss: 0.1135 - accuracy: 1.00 - 0s 2ms/step - loss: 0.1347 - accuracy: 0.9226 - val_loss: 0.2290 - val_accuracy: 0.9268\n",
      "Epoch 8/1000\n",
      "16/16 [==============================] - 0s 2ms/step - loss: 0.1097 - accuracy: 0.9552 - val_loss: 0.1957 - val_accuracy: 0.9431\n",
      "Epoch 9/1000\n",
      "16/16 [==============================] - 0s 2ms/step - loss: 0.1014 - accuracy: 0.9532 - val_loss: 0.1958 - val_accuracy: 0.9187\n",
      "Epoch 10/1000\n",
      "16/16 [==============================] - 0s 2ms/step - loss: 0.0919 - accuracy: 0.9491 - val_loss: 0.1937 - val_accuracy: 0.9187\n",
      "Epoch 11/1000\n",
      "16/16 [==============================] - 0s 2ms/step - loss: 0.0789 - accuracy: 0.9552 - val_loss: 0.2618 - val_accuracy: 0.9431\n"
     ]
    }
   ],
   "source": [
    "# Call Function with fined-tune numebr of neurons\n",
    "model_ft=ANN (input_dim=Smaller_Training.shape[1],neurons=150)  \n",
    "    \n",
    "# Early stopping to avoid overfitting\n",
    "monitor= keras.callbacks.EarlyStopping(min_delta=1e-3,patience=5)\n",
    "history=model_ft.fit(Smaller_Training,Smaller_Training_Target,batch_size=32,validation_data=\n",
    "          (Validation,Validation_Target),callbacks=[monitor],verbose=1,epochs=1000)"
   ]
  },
  {
   "cell_type": "code",
   "execution_count": 41,
   "metadata": {},
   "outputs": [
    {
     "data": {
      "image/png": "[encoded data removed]",
      "text/plain": [
       "<Figure size 1320x440 with 2 Axes>"
      ]
     },
     "metadata": {},
     "output_type": "display_data"
    }
   ],
   "source": [
    "plot(history)"
   ]
  },
  {
   "cell_type": "code",
   "execution_count": 42,
   "metadata": {},
   "outputs": [],
   "source": [
    "X_test = test_set.drop(\"Binary Classes\", axis=1)\n",
    "y_test = test_set[\"Binary Classes\"].values\n",
    "#   \n",
    "X_test_Std=scaler.transform(X_test)"
   ]
  },
  {
   "cell_type": "code",
   "execution_count": 43,
   "metadata": {},
   "outputs": [
    {
     "name": "stdout",
     "output_type": "stream",
     "text": [
      "0.9675324675324676\n"
     ]
    }
   ],
   "source": [
    "from sklearn.metrics import accuracy_score\n",
    "\n",
    "pred=model_ft.predict(X_test_Std)\n",
    "pred=[1 if i >= 0.5 else 0 for i in pred]\n",
    "\n",
    "acr=accuracy_score(y_test, pred) \n",
    "print(acr)"
   ]
  },
  {
   "cell_type": "markdown",
   "metadata": {},
   "source": [
    "You can see the accuracy you calculated is higher than \"grid_result.best_score_\" because of some overfiting. So, it is always a good idea"
   ]
  },
  {
   "cell_type": "code",
   "execution_count": null,
   "metadata": {},
   "outputs": [],
   "source": []
  },
  {
   "cell_type": "markdown",
   "metadata": {},
   "source": [
    "## Regression: GridSearchCV "
   ]
  },
  {
   "cell_type": "code",
   "execution_count": 44,
   "metadata": {},
   "outputs": [],
   "source": [
    "df_reg=df.copy()\n",
    "df_reg.drop(['Binary Classes','Multi-Classes'], axis=1, inplace=True)\n",
    "\n",
    "# Training and Test\n",
    "train_set, test_set = train_test_split(df_reg, test_size=0.2, random_state=42)\n",
    "  \n",
    "X_train = train_set.drop(\"Heating Load\", axis=1)\n",
    "y_train = train_set[\"Heating Load\"].values\n",
    "#   \n",
    "scaler = StandardScaler()\n",
    "X_train_Std=scaler.fit_transform(X_train)\n",
    "    \n",
    "# Smaller Training\n",
    "# You need to divid your data to smaller training set and validation set for early stopping.\n",
    "Training_c=np.concatenate((X_train_Std,np.array(y_train).reshape(-1,1)),axis=1)\n",
    "Smaller_Training, Validation = train_test_split(Training_c, test_size=0.2, random_state=100)\n",
    "#\n",
    "Smaller_Training_Target=Smaller_Training[:,-1]\n",
    "Smaller_Training=Smaller_Training[:,:-1]\n",
    "#\n",
    "Validation_Target=Validation[:,-1]\n",
    "Validation=Validation[:,:-1]"
   ]
  },
  {
   "cell_type": "code",
   "execution_count": null,
   "metadata": {},
   "outputs": [],
   "source": []
  },
  {
   "cell_type": "code",
   "execution_count": 45,
   "metadata": {},
   "outputs": [
    {
     "name": "stdout",
     "output_type": "stream",
     "text": [
      "8/8 [==============================] - 0s 628us/step - loss: 3.2498\n",
      "8/8 [==============================] - 0s 502us/step - loss: 10.2170\n",
      "8/8 [==============================] - 0s 623us/step - loss: 5.1038\n",
      "8/8 [==============================] - 0s 499us/step - loss: 8.7048\n",
      "8/8 [==============================] - 0s 624us/step - loss: 3.0345\n",
      "8/8 [==============================] - 0s 628us/step - loss: 6.0309\n"
     ]
    }
   ],
   "source": [
    "from keras.wrappers.scikit_learn import KerasRegressor\n",
    "\n",
    "# define the grid search parameters\n",
    "param_grid = {'neurons' : [50,100,150]}\n",
    "\n",
    "# Run Keras Classifier \n",
    "model = KerasRegressor(build_fn=ANN,input_dim=Smaller_Training.shape[1],loss='mse'\n",
    "                        ,metrics=None,activation_out=None)\n",
    "#model. _estimator_type = \"regressor\"\n",
    "\n",
    "# Apply Scikit Learn GridSearchCV\n",
    "grid = GridSearchCV(estimator=model,param_grid=param_grid, cv=2)\n",
    "\n",
    "# Early stopping to avoid overfitting\n",
    "monitor= keras.callbacks.EarlyStopping(min_delta=1e-3,patience=5, verbose=0)\n",
    "grid_result = grid.fit(Smaller_Training,Smaller_Training_Target,batch_size=32,validation_data=\n",
    "                       (Validation,Validation_Target),callbacks=[monitor],\n",
    "                   verbose=0,epochs=1000)"
   ]
  },
  {
   "cell_type": "code",
   "execution_count": 46,
   "metadata": {},
   "outputs": [
    {
     "name": "stdout",
     "output_type": "stream",
     "text": [
      "Best parameters: 4.532704 using {'neurons': 150}\n"
     ]
    }
   ],
   "source": [
    "# Best result\n",
    "print(\"Best parameters: %f using %s\" % (-1*grid_result.best_score_, grid_result.best_params_))"
   ]
  },
  {
   "cell_type": "markdown",
   "metadata": {},
   "source": [
    "You can fune-tune any ANN hyperparameter. Then call the function used fine-tuned neurons."
   ]
  },
  {
   "cell_type": "code",
   "execution_count": 47,
   "metadata": {
    "scrolled": true
   },
   "outputs": [
    {
     "name": "stdout",
     "output_type": "stream",
     "text": [
      "Epoch 1/1000\n",
      "16/16 [==============================] - 0s 7ms/step - loss: 496.0419 - val_loss: 411.0409\n",
      "Epoch 2/1000\n",
      "16/16 [==============================] - 0s 2ms/step - loss: 189.4804 - val_loss: 69.1375\n",
      "Epoch 3/1000\n",
      "16/16 [==============================] - 0s 2ms/step - loss: 61.8730 - val_loss: 30.8594\n",
      "Epoch 4/1000\n",
      "16/16 [==============================] - 0s 2ms/step - loss: 33.7987 - val_loss: 29.8524\n",
      "Epoch 5/1000\n",
      "16/16 [==============================] - 0s 2ms/step - loss: 26.3349 - val_loss: 21.3596\n",
      "Epoch 6/1000\n",
      "16/16 [==============================] - 0s 2ms/step - loss: 22.6852 - val_loss: 21.2456\n",
      "Epoch 7/1000\n",
      "16/16 [==============================] - 0s 2ms/step - loss: 19.7035 - val_loss: 16.8350\n",
      "Epoch 8/1000\n",
      "16/16 [==============================] - 0s 2ms/step - loss: 17.5764 - val_loss: 16.0825\n",
      "Epoch 9/1000\n",
      "16/16 [==============================] - 0s 2ms/step - loss: 15.4212 - val_loss: 12.5194\n",
      "Epoch 10/1000\n",
      "16/16 [==============================] - 0s 2ms/step - loss: 14.0032 - val_loss: 11.0032\n",
      "Epoch 11/1000\n",
      "16/16 [==============================] - 0s 2ms/step - loss: 12.4288 - val_loss: 9.8423\n",
      "Epoch 12/1000\n",
      "16/16 [==============================] - 0s 2ms/step - loss: 11.0770 - val_loss: 9.3910\n",
      "Epoch 13/1000\n",
      "16/16 [==============================] - 0s 2ms/step - loss: 10.1157 - val_loss: 8.4061\n",
      "Epoch 14/1000\n",
      "16/16 [==============================] - 0s 2ms/step - loss: 9.3192 - val_loss: 8.0439\n",
      "Epoch 15/1000\n",
      "16/16 [==============================] - 0s 2ms/step - loss: 8.6984 - val_loss: 7.5356\n",
      "Epoch 16/1000\n",
      "16/16 [==============================] - 0s 2ms/step - loss: 8.3997 - val_loss: 7.2205\n",
      "Epoch 17/1000\n",
      "16/16 [==============================] - 0s 2ms/step - loss: 7.6843 - val_loss: 6.8987\n",
      "Epoch 18/1000\n",
      "16/16 [==============================] - 0s 2ms/step - loss: 7.2509 - val_loss: 6.3502\n",
      "Epoch 19/1000\n",
      "16/16 [==============================] - 0s 2ms/step - loss: 7.4551 - val_loss: 6.8005\n",
      "Epoch 20/1000\n",
      "16/16 [==============================] - 0s 2ms/step - loss: 6.6192 - val_loss: 5.8998\n",
      "Epoch 21/1000\n",
      "16/16 [==============================] - 0s 2ms/step - loss: 6.5088 - val_loss: 5.8347\n",
      "Epoch 22/1000\n",
      "16/16 [==============================] - 0s 2ms/step - loss: 6.1192 - val_loss: 6.1785\n",
      "Epoch 23/1000\n",
      "16/16 [==============================] - 0s 2ms/step - loss: 6.6946 - val_loss: 6.6095\n",
      "Epoch 24/1000\n",
      "16/16 [==============================] - 0s 2ms/step - loss: 5.9191 - val_loss: 5.5249\n",
      "Epoch 25/1000\n",
      "16/16 [==============================] - 0s 2ms/step - loss: 5.5505 - val_loss: 5.3439\n",
      "Epoch 26/1000\n",
      "16/16 [==============================] - 0s 2ms/step - loss: 5.4321 - val_loss: 5.1484\n",
      "Epoch 27/1000\n",
      "16/16 [==============================] - 0s 2ms/step - loss: 5.2984 - val_loss: 4.9999\n",
      "Epoch 28/1000\n",
      "16/16 [==============================] - 0s 2ms/step - loss: 5.0261 - val_loss: 5.7480\n",
      "Epoch 29/1000\n",
      "16/16 [==============================] - 0s 2ms/step - loss: 5.2190 - val_loss: 4.8931\n",
      "Epoch 30/1000\n",
      "16/16 [==============================] - 0s 2ms/step - loss: 5.0271 - val_loss: 4.9039\n",
      "Epoch 31/1000\n",
      "16/16 [==============================] - 0s 2ms/step - loss: 4.7875 - val_loss: 4.6973\n",
      "Epoch 32/1000\n",
      "16/16 [==============================] - 0s 2ms/step - loss: 4.5833 - val_loss: 4.6911\n",
      "Epoch 33/1000\n",
      "16/16 [==============================] - 0s 2ms/step - loss: 4.6143 - val_loss: 4.5598\n",
      "Epoch 34/1000\n",
      "16/16 [==============================] - 0s 2ms/step - loss: 4.4251 - val_loss: 4.5542\n",
      "Epoch 35/1000\n",
      "16/16 [==============================] - 0s 2ms/step - loss: 4.4548 - val_loss: 5.1648\n",
      "Epoch 36/1000\n",
      "16/16 [==============================] - 0s 2ms/step - loss: 4.8674 - val_loss: 4.9474\n",
      "Epoch 37/1000\n",
      "16/16 [==============================] - 0s 2ms/step - loss: 5.5750 - val_loss: 5.7298\n",
      "Epoch 38/1000\n",
      "16/16 [==============================] - 0s 2ms/step - loss: 5.4152 - val_loss: 5.5497\n",
      "Epoch 39/1000\n",
      "16/16 [==============================] - 0s 2ms/step - loss: 4.3875 - val_loss: 4.5470\n",
      "Epoch 40/1000\n",
      "16/16 [==============================] - 0s 2ms/step - loss: 4.2398 - val_loss: 4.1655\n",
      "Epoch 41/1000\n",
      "16/16 [==============================] - 0s 2ms/step - loss: 4.1187 - val_loss: 4.5292\n",
      "Epoch 42/1000\n",
      "16/16 [==============================] - 0s 2ms/step - loss: 4.0220 - val_loss: 4.1258\n",
      "Epoch 43/1000\n",
      "16/16 [==============================] - 0s 2ms/step - loss: 4.0955 - val_loss: 4.8214\n",
      "Epoch 44/1000\n",
      "16/16 [==============================] - 0s 2ms/step - loss: 3.7867 - val_loss: 3.9332\n",
      "Epoch 45/1000\n",
      "16/16 [==============================] - 0s 2ms/step - loss: 3.3385 - val_loss: 3.6392\n",
      "Epoch 46/1000\n",
      "16/16 [==============================] - 0s 2ms/step - loss: 3.3016 - val_loss: 3.7124\n",
      "Epoch 47/1000\n",
      "16/16 [==============================] - 0s 2ms/step - loss: 3.2104 - val_loss: 3.6684\n",
      "Epoch 48/1000\n",
      "16/16 [==============================] - 0s 2ms/step - loss: 3.0862 - val_loss: 3.5787\n",
      "Epoch 49/1000\n",
      "16/16 [==============================] - ETA: 0s - loss: 1.752 - 0s 2ms/step - loss: 3.0164 - val_loss: 3.4757\n",
      "Epoch 50/1000\n",
      "16/16 [==============================] - 0s 2ms/step - loss: 2.9203 - val_loss: 3.4317\n",
      "Epoch 51/1000\n",
      "16/16 [==============================] - 0s 2ms/step - loss: 3.0320 - val_loss: 3.4689\n",
      "Epoch 52/1000\n",
      "16/16 [==============================] - 0s 2ms/step - loss: 2.7935 - val_loss: 3.2752\n",
      "Epoch 53/1000\n",
      "16/16 [==============================] - 0s 2ms/step - loss: 2.7513 - val_loss: 3.4164\n",
      "Epoch 54/1000\n",
      "16/16 [==============================] - 0s 2ms/step - loss: 2.6770 - val_loss: 3.3035\n",
      "Epoch 55/1000\n",
      "16/16 [==============================] - 0s 2ms/step - loss: 2.5766 - val_loss: 3.2466\n",
      "Epoch 56/1000\n",
      "16/16 [==============================] - 0s 2ms/step - loss: 2.5639 - val_loss: 3.3499\n",
      "Epoch 57/1000\n",
      "16/16 [==============================] - 0s 2ms/step - loss: 2.3649 - val_loss: 3.0051\n",
      "Epoch 58/1000\n",
      "16/16 [==============================] - 0s 2ms/step - loss: 2.2593 - val_loss: 3.4642\n",
      "Epoch 59/1000\n",
      "16/16 [==============================] - 0s 2ms/step - loss: 2.4544 - val_loss: 3.2325\n",
      "Epoch 60/1000\n",
      "16/16 [==============================] - 0s 2ms/step - loss: 2.2106 - val_loss: 3.0975\n",
      "Epoch 61/1000\n",
      "16/16 [==============================] - 0s 2ms/step - loss: 2.1582 - val_loss: 2.9797\n",
      "Epoch 62/1000\n",
      "16/16 [==============================] - 0s 2ms/step - loss: 2.1414 - val_loss: 2.7830\n",
      "Epoch 63/1000\n",
      "16/16 [==============================] - 0s 2ms/step - loss: 2.1905 - val_loss: 3.8061\n",
      "Epoch 64/1000\n",
      "16/16 [==============================] - 0s 2ms/step - loss: 2.3123 - val_loss: 3.1691\n",
      "Epoch 65/1000\n",
      "16/16 [==============================] - 0s 2ms/step - loss: 1.9668 - val_loss: 2.5556\n",
      "Epoch 66/1000\n",
      "16/16 [==============================] - 0s 2ms/step - loss: 1.7237 - val_loss: 2.5010\n",
      "Epoch 67/1000\n",
      "16/16 [==============================] - 0s 2ms/step - loss: 1.7079 - val_loss: 2.7022\n",
      "Epoch 68/1000\n",
      "16/16 [==============================] - 0s 2ms/step - loss: 1.8957 - val_loss: 2.5126\n",
      "Epoch 69/1000\n",
      "16/16 [==============================] - 0s 2ms/step - loss: 1.8670 - val_loss: 2.5414\n",
      "Epoch 70/1000\n",
      "16/16 [==============================] - 0s 2ms/step - loss: 1.6417 - val_loss: 2.4126\n",
      "Epoch 71/1000\n",
      "16/16 [==============================] - 0s 2ms/step - loss: 1.5882 - val_loss: 2.3989\n",
      "Epoch 72/1000\n",
      "16/16 [==============================] - 0s 2ms/step - loss: 1.4380 - val_loss: 2.0954\n",
      "Epoch 73/1000\n",
      "16/16 [==============================] - 0s 2ms/step - loss: 1.2311 - val_loss: 2.2355\n",
      "Epoch 74/1000\n",
      "16/16 [==============================] - 0s 2ms/step - loss: 1.1962 - val_loss: 1.9829\n",
      "Epoch 75/1000\n",
      "16/16 [==============================] - 0s 2ms/step - loss: 1.1219 - val_loss: 2.0183\n",
      "Epoch 76/1000\n",
      "16/16 [==============================] - 0s 2ms/step - loss: 1.0019 - val_loss: 1.8860\n",
      "Epoch 77/1000\n",
      "16/16 [==============================] - 0s 3ms/step - loss: 0.9830 - val_loss: 1.7563\n",
      "Epoch 78/1000\n",
      "16/16 [==============================] - 0s 2ms/step - loss: 0.9107 - val_loss: 2.3790\n",
      "Epoch 79/1000\n",
      "16/16 [==============================] - 0s 2ms/step - loss: 1.0232 - val_loss: 1.5938\n",
      "Epoch 80/1000\n",
      "16/16 [==============================] - 0s 2ms/step - loss: 0.8119 - val_loss: 1.4614\n",
      "Epoch 81/1000\n",
      "16/16 [==============================] - 0s 2ms/step - loss: 0.7030 - val_loss: 1.5426\n",
      "Epoch 82/1000\n",
      "16/16 [==============================] - 0s 2ms/step - loss: 0.7883 - val_loss: 1.6369\n",
      "Epoch 83/1000\n",
      "16/16 [==============================] - 0s 2ms/step - loss: 0.7123 - val_loss: 1.5083\n",
      "Epoch 84/1000\n",
      "16/16 [==============================] - 0s 2ms/step - loss: 0.6877 - val_loss: 1.3337\n",
      "Epoch 85/1000\n",
      "16/16 [==============================] - 0s 2ms/step - loss: 0.6299 - val_loss: 1.3608\n",
      "Epoch 86/1000\n",
      "16/16 [==============================] - 0s 2ms/step - loss: 0.5525 - val_loss: 1.1083\n",
      "Epoch 87/1000\n",
      "16/16 [==============================] - 0s 2ms/step - loss: 0.4775 - val_loss: 1.0285\n",
      "Epoch 88/1000\n",
      "16/16 [==============================] - 0s 2ms/step - loss: 0.4445 - val_loss: 1.0157\n",
      "Epoch 89/1000\n",
      "16/16 [==============================] - 0s 2ms/step - loss: 0.4305 - val_loss: 0.9644\n",
      "Epoch 90/1000\n",
      "16/16 [==============================] - 0s 2ms/step - loss: 0.3969 - val_loss: 0.9314\n",
      "Epoch 91/1000\n",
      "16/16 [==============================] - 0s 2ms/step - loss: 0.3768 - val_loss: 0.8610\n",
      "Epoch 92/1000\n",
      "16/16 [==============================] - 0s 2ms/step - loss: 0.3506 - val_loss: 0.8625\n",
      "Epoch 93/1000\n",
      "16/16 [==============================] - 0s 2ms/step - loss: 0.3450 - val_loss: 0.8950\n",
      "Epoch 94/1000\n",
      "16/16 [==============================] - 0s 2ms/step - loss: 0.3313 - val_loss: 0.8003\n",
      "Epoch 95/1000\n",
      "16/16 [==============================] - 0s 2ms/step - loss: 0.2967 - val_loss: 0.8246\n",
      "Epoch 96/1000\n",
      "16/16 [==============================] - 0s 2ms/step - loss: 0.2823 - val_loss: 0.7612\n",
      "Epoch 97/1000\n",
      "16/16 [==============================] - 0s 2ms/step - loss: 0.2723 - val_loss: 0.7309\n",
      "Epoch 98/1000\n",
      "16/16 [==============================] - 0s 2ms/step - loss: 0.2665 - val_loss: 0.7157\n",
      "Epoch 99/1000\n",
      "16/16 [==============================] - 0s 2ms/step - loss: 0.2620 - val_loss: 0.6482\n",
      "Epoch 100/1000\n",
      "16/16 [==============================] - 0s 2ms/step - loss: 0.2504 - val_loss: 0.7040\n",
      "Epoch 101/1000\n",
      "16/16 [==============================] - 0s 2ms/step - loss: 0.2573 - val_loss: 0.6372\n",
      "Epoch 102/1000\n",
      "16/16 [==============================] - 0s 2ms/step - loss: 0.2572 - val_loss: 0.6856\n",
      "Epoch 103/1000\n",
      "16/16 [==============================] - 0s 2ms/step - loss: 0.2301 - val_loss: 0.6433\n",
      "Epoch 104/1000\n",
      "16/16 [==============================] - 0s 2ms/step - loss: 0.2233 - val_loss: 0.6534\n",
      "Epoch 105/1000\n",
      "16/16 [==============================] - 0s 2ms/step - loss: 0.1974 - val_loss: 0.6036\n",
      "Epoch 106/1000\n",
      "16/16 [==============================] - 0s 2ms/step - loss: 0.1832 - val_loss: 0.6474\n",
      "Epoch 107/1000\n",
      "16/16 [==============================] - 0s 2ms/step - loss: 0.1815 - val_loss: 0.5545\n",
      "Epoch 108/1000\n",
      "16/16 [==============================] - 0s 2ms/step - loss: 0.1812 - val_loss: 0.5798\n",
      "Epoch 109/1000\n",
      "16/16 [==============================] - 0s 2ms/step - loss: 0.1837 - val_loss: 0.6729\n",
      "Epoch 110/1000\n",
      "16/16 [==============================] - 0s 2ms/step - loss: 0.1784 - val_loss: 0.5668\n",
      "Epoch 111/1000\n",
      "16/16 [==============================] - 0s 2ms/step - loss: 0.1533 - val_loss: 0.5680\n",
      "Epoch 112/1000\n",
      "16/16 [==============================] - 0s 2ms/step - loss: 0.1482 - val_loss: 0.5305\n",
      "Epoch 113/1000\n",
      "16/16 [==============================] - 0s 2ms/step - loss: 0.1654 - val_loss: 0.5589\n",
      "Epoch 114/1000\n",
      "16/16 [==============================] - 0s 2ms/step - loss: 0.1782 - val_loss: 0.5046\n",
      "Epoch 115/1000\n",
      "16/16 [==============================] - 0s 2ms/step - loss: 0.1684 - val_loss: 0.5452\n",
      "Epoch 116/1000\n",
      "16/16 [==============================] - 0s 2ms/step - loss: 0.1734 - val_loss: 0.6055\n",
      "Epoch 117/1000\n",
      "16/16 [==============================] - 0s 2ms/step - loss: 0.1625 - val_loss: 0.4919\n",
      "Epoch 118/1000\n",
      "16/16 [==============================] - 0s 2ms/step - loss: 0.1517 - val_loss: 0.6197\n",
      "Epoch 119/1000\n",
      "16/16 [==============================] - 0s 2ms/step - loss: 0.1842 - val_loss: 0.6176\n",
      "Epoch 120/1000\n",
      "16/16 [==============================] - 0s 2ms/step - loss: 0.2609 - val_loss: 0.5866\n",
      "Epoch 121/1000\n",
      "16/16 [==============================] - 0s 2ms/step - loss: 0.1672 - val_loss: 0.5615\n",
      "Epoch 122/1000\n",
      "16/16 [==============================] - 0s 2ms/step - loss: 0.1937 - val_loss: 0.5411\n"
     ]
    }
   ],
   "source": [
    "# Call Function with fined-tune numebr of neurons\n",
    "model_ft=ANN (input_dim=Smaller_Training.shape[1],neurons=150,loss='mse',metrics=None,activation_out=None)  \n",
    "    \n",
    "# Early stopping to avoid overfitting\n",
    "monitor= keras.callbacks.EarlyStopping(min_delta=1e-3,patience=5)\n",
    "history=model_ft.fit(Smaller_Training,Smaller_Training_Target,batch_size=32,validation_data=\n",
    "          (Validation,Validation_Target),callbacks=[monitor],verbose=1,epochs=1000)"
   ]
  },
  {
   "cell_type": "code",
   "execution_count": 48,
   "metadata": {},
   "outputs": [
    {
     "data": {
      "image/png": "[encoded data removed]",
      "text/plain": [
       "<Figure size 1400x1000 with 2 Axes>"
      ]
     },
     "metadata": {},
     "output_type": "display_data"
    }
   ],
   "source": [
    "plot_NN(model_ft,history,Smaller_Training,Smaller_Training_Target)"
   ]
  },
  {
   "cell_type": "code",
   "execution_count": 49,
   "metadata": {},
   "outputs": [],
   "source": [
    "X_test = test_set.drop(\"Heating Load\", axis=1)\n",
    "y_test = test_set[\"Heating Load\"].values\n",
    "#   \n",
    "X_test_Std=scaler.transform(X_test)"
   ]
  },
  {
   "cell_type": "code",
   "execution_count": 50,
   "metadata": {},
   "outputs": [
    {
     "data": {
      "text/plain": [
       "0.5701598221707747"
      ]
     },
     "execution_count": 50,
     "metadata": {},
     "output_type": "execute_result"
    }
   ],
   "source": [
    "pred=model_ft.predict(X_test_Std)\n",
    "mse = mean_squared_error(y_test, pred)\n",
    "rmse= np.sqrt(mse)\n",
    "rmse"
   ]
  },
  {
   "cell_type": "code",
   "execution_count": null,
   "metadata": {},
   "outputs": [],
   "source": []
  }
 ],
 "metadata": {
  "kernelspec": {
   "display_name": "Python 3",
   "language": "python",
   "name": "python3"
  },
  "language_info": {
   "codemirror_mode": {
    "name": "ipython",
    "version": 3
   },
   "file_extension": ".py",
   "mimetype": "text/x-python",
   "name": "python",
   "nbconvert_exporter": "python",
   "pygments_lexer": "ipython3",
   "version": "3.8.3"
  },
  "toc": {
   "base_numbering": 1,
   "nav_menu": {},
   "number_sections": true,
   "sideBar": true,
   "skip_h1_title": false,
   "title_cell": "Table of Contents",
   "title_sidebar": "Contents",
   "toc_cell": true,
   "toc_position": {
    "height": "860px",
    "left": "0px",
    "top": "110px",
    "width": "315.95px"
   },
   "toc_section_display": true,
   "toc_window_display": true
  },
  "varInspector": {
   "cols": {
    "lenName": 16,
    "lenType": 16,
    "lenVar": 40
   },
   "kernels_config": {
    "python": {
     "delete_cmd_postfix": "",
     "delete_cmd_prefix": "del ",
     "library": "var_list.py",
     "varRefreshCmd": "print(var_dic_list())"
    },
    "r": {
     "delete_cmd_postfix": ") ",
     "delete_cmd_prefix": "rm(",
     "library": "var_list.r",
     "varRefreshCmd": "cat(var_dic_list()) "
    }
   },
   "types_to_exclude": [
    "module",
    "function",
    "builtin_function_or_method",
    "instance",
    "_Feature"
   ],
   "window_display": false
  }
 },
 "nbformat": 4,
 "nbformat_minor": 4
}
